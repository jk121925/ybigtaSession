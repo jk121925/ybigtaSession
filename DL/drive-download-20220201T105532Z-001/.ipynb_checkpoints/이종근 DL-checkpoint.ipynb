{
 "cells": [
  {
   "cell_type": "markdown",
   "metadata": {
    "id": "MN_pVd5cU2QQ"
   },
   "source": [
    "# 과제: MNIST 데이터를 나만의 NN model로 95 % 이상의 성능으로 training 시켜보자!\n",
    "\n",
    "\n",
    "## Loading MNIST training data\n",
    "\n",
    "출처: 18기 DS 김승하님"
   ]
  },
  {
   "cell_type": "code",
   "execution_count": 214,
   "metadata": {
    "id": "hwZNV5MFU2QQ"
   },
   "outputs": [
    {
     "data": {
      "text/plain": [
       "(60000, 28, 28)"
      ]
     },
     "execution_count": 214,
     "metadata": {},
     "output_type": "execute_result"
    }
   ],
   "source": [
    "import tensorflow as tf\n",
    "from tensorflow import keras\n",
    "\n",
    "# import matplotlib\n",
    "import matplotlib.pyplot as plt\n",
    "\n",
    "# Loading the data\n",
    "(x_train, y_train), (x_test, y_test) = tf.keras.datasets.mnist.load_data()\n",
    "\n",
    "# Scaling(image data는 min-max scaling 주로 사용)\n",
    "x_train = x_train/255.0\n",
    "x_test = x_test/255.0\n",
    "x_train.shape"
   ]
  },
  {
   "cell_type": "markdown",
   "metadata": {
    "id": "RDU8J2xRU2QQ"
   },
   "source": [
    "## Training Data\n",
    "28 * 28 pixel 값을 가진 총 60000개의 이미지 데이터"
   ]
  },
  {
   "cell_type": "code",
   "execution_count": 9,
   "metadata": {
    "colab": {
     "base_uri": "https://localhost:8080/"
    },
    "executionInfo": {
     "elapsed": 6,
     "status": "ok",
     "timestamp": 1643028242064,
     "user": {
      "displayName": "‍정은서(학부학생/공과대학 컴퓨터과학)",
      "photoUrl": "https://lh3.googleusercontent.com/a/default-user=s64",
      "userId": "09920294658440473258"
     },
     "user_tz": -540
    },
    "id": "jVvXmjQSU2QQ",
    "outputId": "acd0ce4a-bae4-4ee8-b257-de8db98dfd9a"
   },
   "outputs": [
    {
     "data": {
      "text/plain": [
       "(60000, 28, 28)"
      ]
     },
     "execution_count": 9,
     "metadata": {},
     "output_type": "execute_result"
    }
   ],
   "source": [
    "x_train.shape "
   ]
  },
  {
   "cell_type": "markdown",
   "metadata": {
    "id": "272a9wmbuL3L"
   },
   "source": []
  },
  {
   "cell_type": "markdown",
   "metadata": {
    "id": "-VTAAYKSU2QQ"
   },
   "source": [
    "Neural network 모델에 맞게 이미지 데이터를 벡터 형태로 데이터를 reshape 합니다.  \n",
    "(Model을 만들 때 *keras.layers.Flatten(input_shape=(28, 28)) 이용해도 됨)"
   ]
  },
  {
   "cell_type": "code",
   "execution_count": 208,
   "metadata": {
    "colab": {
     "base_uri": "https://localhost:8080/"
    },
    "executionInfo": {
     "elapsed": 5,
     "status": "ok",
     "timestamp": 1643028242065,
     "user": {
      "displayName": "‍정은서(학부학생/공과대학 컴퓨터과학)",
      "photoUrl": "https://lh3.googleusercontent.com/a/default-user=s64",
      "userId": "09920294658440473258"
     },
     "user_tz": -540
    },
    "id": "dq36yUX8U2QR",
    "outputId": "8d3e9a3a-30b4-4d26-b16b-b96982aca18e"
   },
   "outputs": [
    {
     "data": {
      "text/plain": [
       "((60000, 784), (10000, 784))"
      ]
     },
     "execution_count": 208,
     "metadata": {},
     "output_type": "execute_result"
    }
   ],
   "source": [
    "# x_train, x_test = x_train.reshape((-1, 28*28)), x_test.reshape((-1, 28*28))\n",
    "x_train.shape, x_test.shape"
   ]
  },
  {
   "cell_type": "code",
   "execution_count": 209,
   "metadata": {
    "colab": {
     "base_uri": "https://localhost:8080/",
     "height": 564
    },
    "executionInfo": {
     "elapsed": 560,
     "status": "error",
     "timestamp": 1643028242621,
     "user": {
      "displayName": "‍정은서(학부학생/공과대학 컴퓨터과학)",
      "photoUrl": "https://lh3.googleusercontent.com/a/default-user=s64",
      "userId": "09920294658440473258"
     },
     "user_tz": -540
    },
    "id": "zrQLH9iXU2QR",
    "outputId": "ed354b79-507b-4de2-8c7b-2228b3aed80c"
   },
   "outputs": [
    {
     "data": {
      "image/png": "[encoded data removed]",
      "text/plain": [
       "<Figure size 432x288 with 1 Axes>"
      ]
     },
     "metadata": {
      "needs_background": "light"
     },
     "output_type": "display_data"
    }
   ],
   "source": [
    "# Hint: x_train[0].reshape()\n",
    "temp = x_train[0].reshape(28,28)\n",
    "plt.imshow(temp).set_cmap('Greys')"
   ]
  },
  {
   "cell_type": "markdown",
   "metadata": {
    "id": "0YZXzr-AU2QR"
   },
   "source": [
    "# Training Labels\n",
    "이미지 데이터가 나타내는 숫자값을 label로 가지고 있고, 0부터 9까지의 값을 나타냄  \n",
    "마찬가지로, 60000개의 label이 존재"
   ]
  },
  {
   "cell_type": "code",
   "execution_count": 210,
   "metadata": {
    "id": "V-JVvQcJU2QR"
   },
   "outputs": [
    {
     "data": {
      "text/plain": [
       "(60000,)"
      ]
     },
     "execution_count": 210,
     "metadata": {},
     "output_type": "execute_result"
    }
   ],
   "source": [
    "y_train.shape"
   ]
  },
  {
   "cell_type": "code",
   "execution_count": 211,
   "metadata": {
    "id": "PgAkJK6yU2QR"
   },
   "outputs": [
    {
     "data": {
      "text/plain": [
       "{0, 1, 2, 3, 4, 5, 6, 7, 8, 9}"
      ]
     },
     "execution_count": 211,
     "metadata": {},
     "output_type": "execute_result"
    }
   ],
   "source": [
    "# show MNIST label for above data\n",
    "p = set()\n",
    "for i in y_train:\n",
    "    p.add(i)\n",
    "p"
   ]
  },
  {
   "cell_type": "markdown",
   "metadata": {
    "id": "qaI3Kv_GU2QR"
   },
   "source": [
    "## 나만의 모델을 tensorflow keras API 를 이용해 만들어 봅시다~"
   ]
  },
  {
   "cell_type": "markdown",
   "metadata": {
    "id": "gSshVnt2U2QS"
   },
   "source": [
    "* parameters for model"
   ]
  },
  {
   "cell_type": "code",
   "execution_count": 212,
   "metadata": {
    "id": "coUZ53nKU2QS"
   },
   "outputs": [
    {
     "name": "stdout",
     "output_type": "stream",
     "text": [
      "Model: \"sequential_30\"\n",
      "_________________________________________________________________\n",
      " Layer (type)                Output Shape              Param #   \n",
      "=================================================================\n",
      " dense_114 (Dense)           (None, 256)               200960    \n",
      "                                                                 \n",
      "=================================================================\n",
      "Total params: 200,960\n",
      "Trainable params: 200,960\n",
      "Non-trainable params: 0\n",
      "_________________________________________________________________\n"
     ]
    }
   ],
   "source": [
    "activation_list = [\"sigmoid\", \"relu\", \"softmax\", \"tanh\"]\n",
    "\n",
    "loss_list = [\"sparse_categorical_crossentropy\",\n",
    "             \"categorical_crossentropy\", \n",
    "             \"binary_crossentropy\"]\n",
    "\n",
    "optimizer_list = [\"sgd\", \"adam\", \"rmsprop\", \"adagrad\"]\n",
    "\n",
    "initializer_list = [tf.keras.initializers.RandomNormal(), \n",
    "                    tf.keras.initializers.RandomUniform(), \n",
    "                    tf.keras.initializers.he_normal(), \n",
    "                    tf.keras.initializers.he_uniform(), \n",
    "                    tf.keras.initializers.GlorotUniform(),\n",
    "                    tf.keras.initializers.GlorotNormal()]\n",
    "\n",
    "# dropout\n",
    "dropout_rate = 0.3\n",
    "model = tf.keras.Sequential([\n",
    "    tf.keras.layers.Dense(256, input_dim=784, activation = \"sigmoid\"),\n",
    "    tf.keras.layers.Dense(2, activation = \"sigmoid\"),\n",
    "    tf.keras.layers.Dropout(dropout_rate)\n",
    "])\n",
    "\n",
    "\n",
    "# regularizer\n",
    "regularizer = tf.keras.regularizers.l1(1e-3)\n",
    "regularizer = tf.keras.regularizers.l2(1e-3)\n",
    "model = tf.keras.Sequential([\n",
    "    tf.keras.layers.Dense(256, input_dim=784, activation=\"sigmoid\",\n",
    "                          activity_regularizer=regularizer)\n",
    "])\n",
    "\n",
    "# weight initialization\n",
    "model = tf.keras.Sequential([\n",
    "    tf.keras.layers.Dense(256, input_dim=784, activation=\"sigmoid\",\n",
    "                          kernel_initializer=initializer_list[0])\n",
    "])\n",
    "model.summary()"
   ]
  },
  {
   "cell_type": "markdown",
   "metadata": {
    "id": "d-6ZTz4AU2QS"
   },
   "source": [
    "#### My Own Model "
   ]
  },
  {
   "cell_type": "code",
   "execution_count": 254,
   "metadata": {
    "scrolled": true
   },
   "outputs": [
    {
     "name": "stdout",
     "output_type": "stream",
     "text": [
      "Epoch 1/50\n",
      "1407/1407 [==============================] - 4s 3ms/step - loss: 1.4561 - accuracy: 0.6363 - val_loss: 0.9674 - val_accuracy: 0.6784\n",
      "Epoch 2/50\n",
      "1407/1407 [==============================] - 4s 3ms/step - loss: 0.7538 - accuracy: 0.6910 - val_loss: 0.6352 - val_accuracy: 0.7091\n",
      "Epoch 3/50\n",
      "1407/1407 [==============================] - 4s 3ms/step - loss: 0.5833 - accuracy: 0.7096 - val_loss: 0.5729 - val_accuracy: 0.7135\n",
      "Epoch 4/50\n",
      "1407/1407 [==============================] - 4s 3ms/step - loss: 0.5174 - accuracy: 0.7977 - val_loss: 0.4951 - val_accuracy: 0.8802\n",
      "Epoch 5/50\n",
      "1407/1407 [==============================] - 4s 3ms/step - loss: 0.4071 - accuracy: 0.9157 - val_loss: 0.3790 - val_accuracy: 0.9355\n",
      "Epoch 6/50\n",
      "1407/1407 [==============================] - 4s 3ms/step - loss: 0.2902 - accuracy: 0.9580 - val_loss: 0.2725 - val_accuracy: 0.9553\n",
      "Epoch 7/50\n",
      "1407/1407 [==============================] - 4s 3ms/step - loss: 0.1986 - accuracy: 0.9716 - val_loss: 0.2129 - val_accuracy: 0.9620\n",
      "Epoch 8/50\n",
      "1407/1407 [==============================] - 4s 3ms/step - loss: 0.1482 - accuracy: 0.9768 - val_loss: 0.1889 - val_accuracy: 0.9643\n",
      "Epoch 9/50\n",
      "1407/1407 [==============================] - 4s 3ms/step - loss: 0.1191 - accuracy: 0.9803 - val_loss: 0.1811 - val_accuracy: 0.9651\n",
      "Epoch 10/50\n",
      "1407/1407 [==============================] - 4s 3ms/step - loss: 0.1012 - accuracy: 0.9823 - val_loss: 0.1734 - val_accuracy: 0.9647\n",
      "Epoch 11/50\n",
      "1407/1407 [==============================] - 4s 3ms/step - loss: 0.0869 - accuracy: 0.9845 - val_loss: 0.1776 - val_accuracy: 0.9644\n",
      "Epoch 12/50\n",
      "1407/1407 [==============================] - 4s 3ms/step - loss: 0.0778 - accuracy: 0.9853 - val_loss: 0.1794 - val_accuracy: 0.9639\n",
      "Epoch 13/50\n",
      "1407/1407 [==============================] - 4s 3ms/step - loss: 0.0694 - accuracy: 0.9870 - val_loss: 0.1811 - val_accuracy: 0.9645\n",
      "Epoch 14/50\n",
      "1407/1407 [==============================] - 4s 3ms/step - loss: 0.0616 - accuracy: 0.9884 - val_loss: 0.1881 - val_accuracy: 0.9641\n",
      "Epoch 15/50\n",
      "1407/1407 [==============================] - 4s 3ms/step - loss: 0.0583 - accuracy: 0.9889 - val_loss: 0.1888 - val_accuracy: 0.9641\n",
      "Epoch 16/50\n",
      "1407/1407 [==============================] - 4s 3ms/step - loss: 0.0537 - accuracy: 0.9900 - val_loss: 0.1868 - val_accuracy: 0.9629\n",
      "Epoch 17/50\n",
      "1407/1407 [==============================] - 4s 3ms/step - loss: 0.0505 - accuracy: 0.9909 - val_loss: 0.1980 - val_accuracy: 0.9643\n",
      "Epoch 18/50\n",
      "1407/1407 [==============================] - 4s 3ms/step - loss: 0.0457 - accuracy: 0.9909 - val_loss: 0.2022 - val_accuracy: 0.9632\n",
      "Epoch 19/50\n",
      "1407/1407 [==============================] - 4s 3ms/step - loss: 0.0477 - accuracy: 0.9909 - val_loss: 0.2055 - val_accuracy: 0.9623\n",
      "Epoch 20/50\n",
      "1407/1407 [==============================] - 4s 3ms/step - loss: 0.0459 - accuracy: 0.9909 - val_loss: 0.2061 - val_accuracy: 0.9620\n",
      "Epoch 21/50\n",
      "1407/1407 [==============================] - 4s 3ms/step - loss: 0.0444 - accuracy: 0.9916 - val_loss: 0.2137 - val_accuracy: 0.9621\n",
      "Epoch 22/50\n",
      "1407/1407 [==============================] - 4s 3ms/step - loss: 0.0409 - accuracy: 0.9919 - val_loss: 0.2274 - val_accuracy: 0.9611\n",
      "Epoch 23/50\n",
      "1407/1407 [==============================] - 4s 3ms/step - loss: 0.0403 - accuracy: 0.9920 - val_loss: 0.2270 - val_accuracy: 0.9615\n",
      "Epoch 24/50\n",
      "1407/1407 [==============================] - 4s 3ms/step - loss: 0.0390 - accuracy: 0.9922 - val_loss: 0.2323 - val_accuracy: 0.9609\n",
      "Epoch 25/50\n",
      "1407/1407 [==============================] - 4s 3ms/step - loss: 0.0373 - accuracy: 0.9925 - val_loss: 0.2533 - val_accuracy: 0.9590\n",
      "Epoch 26/50\n",
      "1407/1407 [==============================] - 4s 3ms/step - loss: 0.0372 - accuracy: 0.9926 - val_loss: 0.2466 - val_accuracy: 0.9609\n",
      "Epoch 27/50\n",
      "1407/1407 [==============================] - 4s 3ms/step - loss: 0.0354 - accuracy: 0.9931 - val_loss: 0.2533 - val_accuracy: 0.9598\n",
      "Epoch 28/50\n",
      "1407/1407 [==============================] - 4s 3ms/step - loss: 0.0348 - accuracy: 0.9929 - val_loss: 0.2436 - val_accuracy: 0.9607\n",
      "Epoch 29/50\n",
      "1407/1407 [==============================] - 4s 3ms/step - loss: 0.0330 - accuracy: 0.9939 - val_loss: 0.2513 - val_accuracy: 0.9619\n",
      "Epoch 30/50\n",
      "1407/1407 [==============================] - 4s 3ms/step - loss: 0.0354 - accuracy: 0.9927 - val_loss: 0.2625 - val_accuracy: 0.9593\n",
      "Epoch 31/50\n",
      "1407/1407 [==============================] - 5s 3ms/step - loss: 0.0333 - accuracy: 0.9937 - val_loss: 0.2737 - val_accuracy: 0.9605\n",
      "Epoch 32/50\n",
      "1407/1407 [==============================] - 4s 3ms/step - loss: 0.0330 - accuracy: 0.9937 - val_loss: 0.2830 - val_accuracy: 0.9586\n",
      "Epoch 33/50\n",
      "1407/1407 [==============================] - 4s 3ms/step - loss: 0.0316 - accuracy: 0.9937 - val_loss: 0.2732 - val_accuracy: 0.9593\n",
      "Epoch 34/50\n",
      "1407/1407 [==============================] - 4s 3ms/step - loss: 0.0313 - accuracy: 0.9937 - val_loss: 0.2795 - val_accuracy: 0.9605\n",
      "Epoch 35/50\n",
      "1407/1407 [==============================] - 4s 3ms/step - loss: 0.0315 - accuracy: 0.9939 - val_loss: 0.2844 - val_accuracy: 0.9591\n",
      "Epoch 36/50\n",
      "1407/1407 [==============================] - 4s 3ms/step - loss: 0.0301 - accuracy: 0.9944 - val_loss: 0.2894 - val_accuracy: 0.9585\n",
      "Epoch 37/50\n",
      "1407/1407 [==============================] - 4s 3ms/step - loss: 0.0292 - accuracy: 0.9942 - val_loss: 0.3023 - val_accuracy: 0.9574\n",
      "Epoch 38/50\n",
      "1407/1407 [==============================] - 4s 3ms/step - loss: 0.0288 - accuracy: 0.9946 - val_loss: 0.2799 - val_accuracy: 0.9607\n",
      "Epoch 39/50\n",
      "1407/1407 [==============================] - 4s 3ms/step - loss: 0.0278 - accuracy: 0.9949 - val_loss: 0.2958 - val_accuracy: 0.9588\n",
      "Epoch 40/50\n",
      "1407/1407 [==============================] - 4s 3ms/step - loss: 0.0292 - accuracy: 0.9942 - val_loss: 0.2963 - val_accuracy: 0.9589\n",
      "Epoch 41/50\n",
      "1407/1407 [==============================] - 4s 3ms/step - loss: 0.0289 - accuracy: 0.9947 - val_loss: 0.2980 - val_accuracy: 0.9587\n",
      "Epoch 42/50\n",
      "1407/1407 [==============================] - 4s 3ms/step - loss: 0.0283 - accuracy: 0.9950 - val_loss: 0.2963 - val_accuracy: 0.9595\n",
      "Epoch 43/50\n",
      "1407/1407 [==============================] - 4s 3ms/step - loss: 0.0295 - accuracy: 0.9944 - val_loss: 0.3144 - val_accuracy: 0.9577\n",
      "Epoch 44/50\n",
      "1407/1407 [==============================] - 4s 3ms/step - loss: 0.0278 - accuracy: 0.9946 - val_loss: 0.3090 - val_accuracy: 0.9589\n",
      "Epoch 45/50\n",
      "1407/1407 [==============================] - 4s 3ms/step - loss: 0.0279 - accuracy: 0.9945 - val_loss: 0.3160 - val_accuracy: 0.9580\n",
      "Epoch 46/50\n",
      "1407/1407 [==============================] - 4s 3ms/step - loss: 0.0272 - accuracy: 0.9951 - val_loss: 0.3164 - val_accuracy: 0.9578\n",
      "Epoch 47/50\n",
      "1407/1407 [==============================] - 4s 3ms/step - loss: 0.0280 - accuracy: 0.9949 - val_loss: 0.3341 - val_accuracy: 0.9568\n",
      "Epoch 48/50\n",
      "1407/1407 [==============================] - 4s 3ms/step - loss: 0.0271 - accuracy: 0.9948 - val_loss: 0.3368 - val_accuracy: 0.9570\n",
      "Epoch 49/50\n",
      "1407/1407 [==============================] - 4s 3ms/step - loss: 0.0259 - accuracy: 0.9950 - val_loss: 0.3395 - val_accuracy: 0.9570\n",
      "Epoch 50/50\n",
      "1407/1407 [==============================] - 4s 3ms/step - loss: 0.0266 - accuracy: 0.9953 - val_loss: 0.3424 - val_accuracy: 0.9568\n"
     ]
    }
   ],
   "source": [
    "initializer_list = [tf.keras.initializers.RandomNormal(), \n",
    "                    tf.keras.initializers.RandomUniform(), \n",
    "                    tf.keras.initializers.he_normal(), \n",
    "                    tf.keras.initializers.he_uniform(), \n",
    "                    tf.keras.initializers.GlorotUniform(),\n",
    "                    tf.keras.initializers.GlorotNormal()]\n",
    "\n",
    "regularizer = tf.keras.regularizers.l2(1e-3)\n",
    "model2 = tf.keras.models.Sequential([\n",
    "    tf.keras.layers.Flatten(input_shape=(28,28)),\n",
    "    tf.keras.layers.Dense(196, activation=tf.nn.relu,kernel_initializer=initializer_list[0]),\n",
    "    tf.keras.layers.Dense(49, activation=tf.nn.softmax),\n",
    "    tf.keras.layers.Dense(10, activation=tf.nn.softmax,activity_regularizer=regularizer),\n",
    "])\n",
    "\n",
    "model2.compile(optimizer='rmsprop',\n",
    "              loss='sparse_categorical_crossentropy',\n",
    "              metrics=['accuracy'])\n",
    "\n",
    "\n",
    "history2 = model2.fit(x_train, y_train, validation_split=0.25, epochs=50, verbose=1)\n"
   ]
  },
  {
   "cell_type": "code",
   "execution_count": 255,
   "metadata": {},
   "outputs": [
    {
     "data": {
      "text/plain": [
       "[<matplotlib.lines.Line2D at 0x191e363c040>]"
      ]
     },
     "execution_count": 255,
     "metadata": {},
     "output_type": "execute_result"
    },
    {
     "data": {
      "image/png": "[encoded data removed]",
      "text/plain": [
       "<Figure size 432x288 with 1 Axes>"
      ]
     },
     "metadata": {
      "needs_background": "light"
     },
     "output_type": "display_data"
    }
   ],
   "source": [
    "plt.plot(history2.history['accuracy'])\n",
    "plt.plot(history2.history['val_accuracy'])"
   ]
  },
  {
   "cell_type": "code",
   "execution_count": 256,
   "metadata": {
    "id": "ziVbGe6sU2QS",
    "scrolled": true
   },
   "outputs": [
    {
     "name": "stdout",
     "output_type": "stream",
     "text": [
      "Epoch 1/50\n",
      "1407/1407 [==============================] - 5s 3ms/step - loss: 0.2272 - accuracy: 0.9328 - val_loss: 0.1327 - val_accuracy: 0.9599\n",
      "Epoch 2/50\n",
      "1407/1407 [==============================] - 5s 3ms/step - loss: 0.0903 - accuracy: 0.9725 - val_loss: 0.1090 - val_accuracy: 0.9659\n",
      "Epoch 3/50\n",
      "1407/1407 [==============================] - 5s 3ms/step - loss: 0.0594 - accuracy: 0.9820 - val_loss: 0.1061 - val_accuracy: 0.9681\n",
      "Epoch 4/50\n",
      "1407/1407 [==============================] - 5s 3ms/step - loss: 0.0396 - accuracy: 0.9877 - val_loss: 0.0943 - val_accuracy: 0.9735\n",
      "Epoch 5/50\n",
      "1407/1407 [==============================] - 5s 3ms/step - loss: 0.0297 - accuracy: 0.9909 - val_loss: 0.1007 - val_accuracy: 0.9725\n",
      "Epoch 6/50\n",
      "1407/1407 [==============================] - 5s 3ms/step - loss: 0.0206 - accuracy: 0.9931 - val_loss: 0.0965 - val_accuracy: 0.9741\n",
      "Epoch 7/50\n",
      "1407/1407 [==============================] - 5s 3ms/step - loss: 0.0166 - accuracy: 0.9948 - val_loss: 0.0923 - val_accuracy: 0.9762\n",
      "Epoch 8/50\n",
      "1407/1407 [==============================] - 5s 3ms/step - loss: 0.0136 - accuracy: 0.9956 - val_loss: 0.0933 - val_accuracy: 0.9767\n",
      "Epoch 9/50\n",
      "1407/1407 [==============================] - 5s 3ms/step - loss: 0.0119 - accuracy: 0.9963 - val_loss: 0.1004 - val_accuracy: 0.9753\n",
      "Epoch 10/50\n",
      "1407/1407 [==============================] - 5s 3ms/step - loss: 0.0079 - accuracy: 0.9973 - val_loss: 0.1155 - val_accuracy: 0.9750\n",
      "Epoch 11/50\n",
      "1407/1407 [==============================] - 5s 3ms/step - loss: 0.0118 - accuracy: 0.9964 - val_loss: 0.1093 - val_accuracy: 0.9761\n",
      "Epoch 12/50\n",
      "1407/1407 [==============================] - 5s 3ms/step - loss: 0.0101 - accuracy: 0.9966 - val_loss: 0.1096 - val_accuracy: 0.9772\n",
      "Epoch 13/50\n",
      "1407/1407 [==============================] - 5s 3ms/step - loss: 0.0074 - accuracy: 0.9974 - val_loss: 0.1252 - val_accuracy: 0.9745\n",
      "Epoch 14/50\n",
      "1407/1407 [==============================] - 5s 3ms/step - loss: 0.0071 - accuracy: 0.9980 - val_loss: 0.1015 - val_accuracy: 0.9804\n",
      "Epoch 15/50\n",
      "1407/1407 [==============================] - 5s 3ms/step - loss: 0.0034 - accuracy: 0.9990 - val_loss: 0.1219 - val_accuracy: 0.9776\n",
      "Epoch 16/50\n",
      "1407/1407 [==============================] - 5s 3ms/step - loss: 0.0100 - accuracy: 0.9967 - val_loss: 0.1290 - val_accuracy: 0.9782\n",
      "Epoch 17/50\n",
      "1407/1407 [==============================] - 5s 3ms/step - loss: 0.0064 - accuracy: 0.9981 - val_loss: 0.1218 - val_accuracy: 0.9783\n",
      "Epoch 18/50\n",
      "1407/1407 [==============================] - 5s 3ms/step - loss: 0.0056 - accuracy: 0.9982 - val_loss: 0.1203 - val_accuracy: 0.9792\n",
      "Epoch 19/50\n",
      "1407/1407 [==============================] - 5s 3ms/step - loss: 0.0077 - accuracy: 0.9975 - val_loss: 0.1245 - val_accuracy: 0.9793\n",
      "Epoch 20/50\n",
      "1407/1407 [==============================] - 5s 3ms/step - loss: 0.0045 - accuracy: 0.9985 - val_loss: 0.1480 - val_accuracy: 0.9758\n",
      "Epoch 21/50\n",
      "1407/1407 [==============================] - 5s 3ms/step - loss: 0.0071 - accuracy: 0.9974 - val_loss: 0.1615 - val_accuracy: 0.9753\n",
      "Epoch 22/50\n",
      "1407/1407 [==============================] - 5s 3ms/step - loss: 0.0052 - accuracy: 0.9984 - val_loss: 0.1394 - val_accuracy: 0.9777\n",
      "Epoch 23/50\n",
      "1407/1407 [==============================] - 5s 3ms/step - loss: 0.0032 - accuracy: 0.9989 - val_loss: 0.1437 - val_accuracy: 0.9781\n",
      "Epoch 24/50\n",
      "1407/1407 [==============================] - 5s 3ms/step - loss: 0.0048 - accuracy: 0.9985 - val_loss: 0.1846 - val_accuracy: 0.9737\n",
      "Epoch 25/50\n",
      "1407/1407 [==============================] - 5s 3ms/step - loss: 0.0069 - accuracy: 0.9975 - val_loss: 0.1419 - val_accuracy: 0.9781\n",
      "Epoch 26/50\n",
      "1407/1407 [==============================] - 5s 3ms/step - loss: 0.0040 - accuracy: 0.9987 - val_loss: 0.1491 - val_accuracy: 0.9777\n",
      "Epoch 27/50\n",
      "1407/1407 [==============================] - 5s 3ms/step - loss: 0.0048 - accuracy: 0.9986 - val_loss: 0.1684 - val_accuracy: 0.9768\n",
      "Epoch 28/50\n",
      "1407/1407 [==============================] - 5s 3ms/step - loss: 0.0047 - accuracy: 0.9983 - val_loss: 0.1956 - val_accuracy: 0.9719\n",
      "Epoch 29/50\n",
      "1407/1407 [==============================] - 5s 3ms/step - loss: 0.0049 - accuracy: 0.9982 - val_loss: 0.1547 - val_accuracy: 0.9792\n",
      "Epoch 30/50\n",
      "1407/1407 [==============================] - 5s 3ms/step - loss: 7.0237e-04 - accuracy: 0.9998 - val_loss: 0.1485 - val_accuracy: 0.9808\n",
      "Epoch 31/50\n",
      "1407/1407 [==============================] - 5s 3ms/step - loss: 0.0081 - accuracy: 0.9979 - val_loss: 0.2110 - val_accuracy: 0.9745\n",
      "Epoch 32/50\n",
      "1407/1407 [==============================] - 5s 3ms/step - loss: 0.0061 - accuracy: 0.9981 - val_loss: 0.1860 - val_accuracy: 0.9769\n",
      "Epoch 33/50\n",
      "1407/1407 [==============================] - 5s 3ms/step - loss: 0.0025 - accuracy: 0.9992 - val_loss: 0.1708 - val_accuracy: 0.9768\n",
      "Epoch 34/50\n",
      "1407/1407 [==============================] - 5s 3ms/step - loss: 0.0052 - accuracy: 0.9984 - val_loss: 0.1754 - val_accuracy: 0.9778\n",
      "Epoch 35/50\n",
      "1407/1407 [==============================] - 5s 3ms/step - loss: 0.0048 - accuracy: 0.9985 - val_loss: 0.1856 - val_accuracy: 0.9769\n",
      "Epoch 36/50\n",
      "1407/1407 [==============================] - 5s 3ms/step - loss: 0.0059 - accuracy: 0.9981 - val_loss: 0.1864 - val_accuracy: 0.9790\n",
      "Epoch 37/50\n",
      "1407/1407 [==============================] - 5s 3ms/step - loss: 0.0020 - accuracy: 0.9994 - val_loss: 0.1797 - val_accuracy: 0.9794\n",
      "Epoch 38/50\n",
      "1407/1407 [==============================] - 5s 3ms/step - loss: 0.0042 - accuracy: 0.9990 - val_loss: 0.1943 - val_accuracy: 0.9771\n",
      "Epoch 39/50\n",
      "1407/1407 [==============================] - 5s 3ms/step - loss: 0.0040 - accuracy: 0.9986 - val_loss: 0.2021 - val_accuracy: 0.9771\n",
      "Epoch 40/50\n",
      "1407/1407 [==============================] - 5s 4ms/step - loss: 0.0027 - accuracy: 0.9992 - val_loss: 0.2095 - val_accuracy: 0.9759\n",
      "Epoch 41/50\n",
      "1407/1407 [==============================] - 5s 4ms/step - loss: 0.0059 - accuracy: 0.9984 - val_loss: 0.2206 - val_accuracy: 0.9762\n",
      "Epoch 42/50\n",
      "1407/1407 [==============================] - 5s 3ms/step - loss: 0.0032 - accuracy: 0.9989 - val_loss: 0.1781 - val_accuracy: 0.9807\n",
      "Epoch 43/50\n",
      "1407/1407 [==============================] - 5s 3ms/step - loss: 0.0041 - accuracy: 0.9990 - val_loss: 0.2226 - val_accuracy: 0.9759\n",
      "Epoch 44/50\n",
      "1407/1407 [==============================] - 5s 3ms/step - loss: 0.0045 - accuracy: 0.9987 - val_loss: 0.2459 - val_accuracy: 0.9745\n",
      "Epoch 45/50\n",
      "1407/1407 [==============================] - 5s 3ms/step - loss: 0.0034 - accuracy: 0.9990 - val_loss: 0.2185 - val_accuracy: 0.9780\n",
      "Epoch 46/50\n",
      "1407/1407 [==============================] - 5s 3ms/step - loss: 0.0016 - accuracy: 0.9995 - val_loss: 0.2532 - val_accuracy: 0.9751\n",
      "Epoch 47/50\n",
      "1407/1407 [==============================] - 5s 3ms/step - loss: 0.0037 - accuracy: 0.9991 - val_loss: 0.1976 - val_accuracy: 0.9802\n",
      "Epoch 48/50\n",
      "1407/1407 [==============================] - 5s 3ms/step - loss: 0.0041 - accuracy: 0.9986 - val_loss: 0.2147 - val_accuracy: 0.9778\n",
      "Epoch 49/50\n",
      "1407/1407 [==============================] - 5s 3ms/step - loss: 0.0040 - accuracy: 0.9990 - val_loss: 0.2145 - val_accuracy: 0.9780\n",
      "Epoch 50/50\n",
      "1407/1407 [==============================] - 5s 3ms/step - loss: 0.0035 - accuracy: 0.9991 - val_loss: 0.2070 - val_accuracy: 0.9790\n"
     ]
    }
   ],
   "source": [
    "#### 자유롭게 Model을 만들고 compile 해봅시다 ####\n",
    "\n",
    "model = tf.keras.models.Sequential([\n",
    "    tf.keras.layers.Flatten(input_shape=(28,28)),\n",
    "    tf.keras.layers.Dense(512, activation=tf.nn.relu),\n",
    "    tf.keras.layers.Dense(10, activation=tf.nn.softmax)\n",
    "])\n",
    "\n",
    "model.compile(optimizer='adam',\n",
    "              loss='sparse_categorical_crossentropy',\n",
    "              metrics=['accuracy'])\n",
    "\n",
    "history = model.fit(x_train, y_train, validation_split=0.25, epochs=50, verbose=1)"
   ]
  },
  {
   "cell_type": "markdown",
   "metadata": {
    "id": "PVhLJHJ9U2QT"
   },
   "source": [
    "내가 만든 모델을 확인해 봅시다."
   ]
  },
  {
   "cell_type": "markdown",
   "metadata": {
    "id": "f9zWRRHIU2QT"
   },
   "source": [
    "model을 자유롭게 train 해봅시다.  "
   ]
  },
  {
   "cell_type": "code",
   "execution_count": 257,
   "metadata": {
    "id": "6uygJ19gU2QT"
   },
   "outputs": [
    {
     "data": {
      "text/plain": [
       "[<matplotlib.lines.Line2D at 0x191ba47dd90>]"
      ]
     },
     "execution_count": 257,
     "metadata": {},
     "output_type": "execute_result"
    },
    {
     "data": {
      "image/png": "[encoded data removed]",
      "text/plain": [
       "<Figure size 432x288 with 1 Axes>"
      ]
     },
     "metadata": {
      "needs_background": "light"
     },
     "output_type": "display_data"
    }
   ],
   "source": [
    "plt.plot(history.history['accuracy'])\n",
    "plt.plot(history.history['val_accuracy'])"
   ]
  },
  {
   "cell_type": "markdown",
   "metadata": {
    "id": "U8A4zKnEU2QT"
   },
   "source": [
    "95%이상의 성능을 가진 모델을 만들면 완성!"
   ]
  },
  {
   "cell_type": "code",
   "execution_count": 258,
   "metadata": {},
   "outputs": [
    {
     "name": "stdout",
     "output_type": "stream",
     "text": [
      "313/313 - 0s - loss: 0.3601 - accuracy: 0.9582 - 329ms/epoch - 1ms/step\n",
      "\n",
      "Accuracy: 0.9581999778747559\n"
     ]
    }
   ],
   "source": [
    "#over fitting\n",
    "test_loss, test_acc = model2.evaluate(x_test,y_test, verbose=2)\n",
    "print('\\nAccuracy:', test_acc)"
   ]
  },
  {
   "cell_type": "code",
   "execution_count": 259,
   "metadata": {
    "id": "9Xz0qGifU2QU",
    "scrolled": true
   },
   "outputs": [
    {
     "name": "stdout",
     "output_type": "stream",
     "text": [
      "313/313 - 0s - loss: 0.1693 - accuracy: 0.9820 - 341ms/epoch - 1ms/step\n",
      "\n",
      "Accuracy: 0.9819999933242798\n"
     ]
    }
   ],
   "source": [
    "test_loss, test_acc = model.evaluate(x_test,y_test, verbose=2)\n",
    "\n",
    "print('\\nAccuracy:', test_acc)"
   ]
  },
  {
   "cell_type": "markdown",
   "metadata": {
    "collapsed": true,
    "id": "EbcuzK_PU2QU"
   },
   "source": [
    "![](https://www.tensorflow.org/versions/master/images/mnist_tensorboard.png)"
   ]
  }
 ],
 "metadata": {
  "accelerator": "GPU",
  "colab": {
   "name": "DL(MLP)_과제.ipynb",
   "provenance": [
    {
     "file_id": "17b-QFKGmGUci3WmTA3KXSa7sTAFiiMym",
     "timestamp": 1643028141636
    }
   ]
  },
  "kernelspec": {
   "display_name": "Python 3 (ipykernel)",
   "language": "python",
   "name": "python3"
  },
  "language_info": {
   "codemirror_mode": {
    "name": "ipython",
    "version": 3
   },
   "file_extension": ".py",
   "mimetype": "text/x-python",
   "name": "python",
   "nbconvert_exporter": "python",
   "pygments_lexer": "ipython3",
   "version": "3.9.7"
  }
 },
 "nbformat": 4,
 "nbformat_minor": 1
}
