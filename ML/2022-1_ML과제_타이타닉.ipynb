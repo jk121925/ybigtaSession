{
 "cells": [
  {
   "cell_type": "markdown",
   "id": "d5c5dc00-7b7f-4fe7-a0a4-f90f69c7e6ce",
   "metadata": {
    "id": "d5c5dc00-7b7f-4fe7-a0a4-f90f69c7e6ce"
   },
   "source": [
    "**2022-1 ML 과제**"
   ]
  },
  {
   "cell_type": "markdown",
   "id": "05720650-7805-4e94-a73f-013ac4fdb483",
   "metadata": {
    "id": "05720650-7805-4e94-a73f-013ac4fdb483"
   },
   "source": [
    "작성자 : 김상회"
   ]
  },
  {
   "cell_type": "markdown",
   "id": "8d4815d7-4aab-4770-af08-c1cab61a24f2",
   "metadata": {
    "id": "8d4815d7-4aab-4770-af08-c1cab61a24f2"
   },
   "source": [
    "Machine Learning 과제는 이전 교육세션에서 배운 \"FE\"와 \"ML\"을 사용하여, 타이타닉 생존 여부를 예측하는 분류 문제에서 직접 모델링 하고 제출까지 해보는 과제 입니다.  \n",
    "  \n",
    "코드는 기초적인 전처리와 Decision Tree를 사용하여 예측을 진행합니다. 필수는 아니지만 주어진 코드 이외에도 다른 모델과 방법들을 자율적으로 사용하여 성능을 높여보시기를 추천드립니다.  \n",
    "  \n",
    "과제하시면서 질문 있으신 분들은 언제든 질문방 or 개인톡으로 연락주세요 :)  \n",
    "+) Ctrl + F에서 \"TODO\"를 찾고 순차적으로 진행하세요"
   ]
  },
  {
   "cell_type": "code",
   "execution_count": 7,
   "id": "8c547e67-f6f4-4af4-8118-04e9041f58c0",
   "metadata": {
    "executionInfo": {
     "elapsed": 5,
     "status": "ok",
     "timestamp": 1643122412320,
     "user": {
      "displayName": "Chewon Song",
      "photoUrl": "https://lh3.googleusercontent.com/a-/AOh14GjccNGTvtPPNXThgTemyZg69qQzk5q2QwkQcSGD=s64",
      "userId": "14107688349549415592"
     },
     "user_tz": -540
    },
    "id": "8c547e67-f6f4-4af4-8118-04e9041f58c0"
   },
   "outputs": [],
   "source": [
    "import pandas as pd\n",
    "import numpy as np"
   ]
  },
  {
   "cell_type": "markdown",
   "id": "4511461c-2ebd-4701-bbf8-50e242efcd68",
   "metadata": {
    "id": "4511461c-2ebd-4701-bbf8-50e242efcd68",
    "tags": []
   },
   "source": [
    "# 데이터셋 로드"
   ]
  },
  {
   "cell_type": "code",
   "execution_count": 2,
   "id": "yFba1UBj143s",
   "metadata": {
    "colab": {
     "base_uri": "https://localhost:8080/"
    },
    "executionInfo": {
     "elapsed": 1970,
     "status": "ok",
     "timestamp": 1643122417441,
     "user": {
      "displayName": "Chewon Song",
      "photoUrl": "https://lh3.googleusercontent.com/a-/AOh14GjccNGTvtPPNXThgTemyZg69qQzk5q2QwkQcSGD=s64",
      "userId": "14107688349549415592"
     },
     "user_tz": -540
    },
    "id": "yFba1UBj143s",
    "outputId": "ece2d34a-5eb4-4eaf-ddb5-daed1ef82f9e"
   },
   "outputs": [
    {
     "ename": "ModuleNotFoundError",
     "evalue": "No module named 'google'",
     "output_type": "error",
     "traceback": [
      "\u001b[1;31m---------------------------------------------------------------------------\u001b[0m",
      "\u001b[1;31mModuleNotFoundError\u001b[0m                       Traceback (most recent call last)",
      "\u001b[1;32m~\\AppData\\Local\\Temp/ipykernel_12852/1583107912.py\u001b[0m in \u001b[0;36m<module>\u001b[1;34m\u001b[0m\n\u001b[1;32m----> 1\u001b[1;33m \u001b[1;32mfrom\u001b[0m \u001b[0mgoogle\u001b[0m\u001b[1;33m.\u001b[0m\u001b[0mcolab\u001b[0m \u001b[1;32mimport\u001b[0m \u001b[0mfiles\u001b[0m\u001b[1;33m\u001b[0m\u001b[1;33m\u001b[0m\u001b[0m\n\u001b[0m\u001b[0;32m      2\u001b[0m \u001b[0mdrive\u001b[0m\u001b[1;33m.\u001b[0m\u001b[0mmount\u001b[0m\u001b[1;33m(\u001b[0m\u001b[1;34m'/content/drive'\u001b[0m\u001b[1;33m)\u001b[0m\u001b[1;33m\u001b[0m\u001b[1;33m\u001b[0m\u001b[0m\n",
      "\u001b[1;31mModuleNotFoundError\u001b[0m: No module named 'google'"
     ]
    }
   ],
   "source": [
    "from google.colab import files\n",
    "drive.mount('/content/drive')"
   ]
  },
  {
   "cell_type": "code",
   "execution_count": 8,
   "id": "2e9dadb0-1b50-4710-8b92-f70d5537b440",
   "metadata": {
    "executionInfo": {
     "elapsed": 5098,
     "status": "ok",
     "timestamp": 1643122775431,
     "user": {
      "displayName": "Chewon Song",
      "photoUrl": "https://lh3.googleusercontent.com/a-/AOh14GjccNGTvtPPNXThgTemyZg69qQzk5q2QwkQcSGD=s64",
      "userId": "14107688349549415592"
     },
     "user_tz": -540
    },
    "id": "2e9dadb0-1b50-4710-8b92-f70d5537b440"
   },
   "outputs": [],
   "source": [
    "# # colab 사용\n",
    "# from google.colab import files\n",
    "\n",
    "# train = pd.read_csv('/content/drive/MyDrive/train_titanic.csv', index_col=0)\n",
    "# test = pd.read_csv('/content/drive/MyDrive/test_titanic.csv', index_col=0)\n",
    "# submission = pd.read_csv('/content/drive/MyDrive/submission.csv')"
   ]
  },
  {
   "cell_type": "code",
   "execution_count": 9,
   "id": "0f336437-ece6-4c29-89c6-c59f1385c4c8",
   "metadata": {
    "id": "0f336437-ece6-4c29-89c6-c59f1385c4c8"
   },
   "outputs": [],
   "source": [
    "# local 사용\n",
    "\n",
    "train = pd.read_csv('train_titanic.csv')\n",
    "test = pd.read_csv('test_titanic.csv')\n",
    "submission = pd.read_csv('submission.csv')"
   ]
  },
  {
   "cell_type": "code",
   "execution_count": 10,
   "id": "628f17e3-896c-4717-9c3c-0770fe2cf3c4",
   "metadata": {
    "colab": {
     "base_uri": "https://localhost:8080/",
     "height": 302
    },
    "executionInfo": {
     "elapsed": 349,
     "status": "ok",
     "timestamp": 1643122803918,
     "user": {
      "displayName": "Chewon Song",
      "photoUrl": "https://lh3.googleusercontent.com/a-/AOh14GjccNGTvtPPNXThgTemyZg69qQzk5q2QwkQcSGD=s64",
      "userId": "14107688349549415592"
     },
     "user_tz": -540
    },
    "id": "628f17e3-896c-4717-9c3c-0770fe2cf3c4",
    "outputId": "b4f31908-02a6-41d1-cef3-e6a8152f67ae"
   },
   "outputs": [
    {
     "data": {
      "text/html": [
       "<div>\n",
       "<style scoped>\n",
       "    .dataframe tbody tr th:only-of-type {\n",
       "        vertical-align: middle;\n",
       "    }\n",
       "\n",
       "    .dataframe tbody tr th {\n",
       "        vertical-align: top;\n",
       "    }\n",
       "\n",
       "    .dataframe thead th {\n",
       "        text-align: right;\n",
       "    }\n",
       "</style>\n",
       "<table border=\"1\" class=\"dataframe\">\n",
       "  <thead>\n",
       "    <tr style=\"text-align: right;\">\n",
       "      <th></th>\n",
       "      <th>Unnamed: 0</th>\n",
       "      <th>PassengerId</th>\n",
       "      <th>Survived</th>\n",
       "      <th>Pclass</th>\n",
       "      <th>Name</th>\n",
       "      <th>Sex</th>\n",
       "      <th>Age</th>\n",
       "      <th>SibSp</th>\n",
       "      <th>Parch</th>\n",
       "      <th>Ticket</th>\n",
       "      <th>Fare</th>\n",
       "      <th>Cabin</th>\n",
       "      <th>Embarked</th>\n",
       "    </tr>\n",
       "  </thead>\n",
       "  <tbody>\n",
       "    <tr>\n",
       "      <th>0</th>\n",
       "      <td>0</td>\n",
       "      <td>1</td>\n",
       "      <td>0</td>\n",
       "      <td>3</td>\n",
       "      <td>Braund, Mr. Owen Harris</td>\n",
       "      <td>male</td>\n",
       "      <td>22.0</td>\n",
       "      <td>1</td>\n",
       "      <td>0</td>\n",
       "      <td>A/5 21171</td>\n",
       "      <td>7.2500</td>\n",
       "      <td>NaN</td>\n",
       "      <td>S</td>\n",
       "    </tr>\n",
       "    <tr>\n",
       "      <th>1</th>\n",
       "      <td>1</td>\n",
       "      <td>2</td>\n",
       "      <td>1</td>\n",
       "      <td>1</td>\n",
       "      <td>Cumings, Mrs. John Bradley (Florence Briggs Th...</td>\n",
       "      <td>female</td>\n",
       "      <td>38.0</td>\n",
       "      <td>1</td>\n",
       "      <td>0</td>\n",
       "      <td>PC 17599</td>\n",
       "      <td>71.2833</td>\n",
       "      <td>C85</td>\n",
       "      <td>C</td>\n",
       "    </tr>\n",
       "    <tr>\n",
       "      <th>2</th>\n",
       "      <td>2</td>\n",
       "      <td>3</td>\n",
       "      <td>1</td>\n",
       "      <td>3</td>\n",
       "      <td>Heikkinen, Miss. Laina</td>\n",
       "      <td>female</td>\n",
       "      <td>26.0</td>\n",
       "      <td>0</td>\n",
       "      <td>0</td>\n",
       "      <td>STON/O2. 3101282</td>\n",
       "      <td>7.9250</td>\n",
       "      <td>NaN</td>\n",
       "      <td>S</td>\n",
       "    </tr>\n",
       "    <tr>\n",
       "      <th>3</th>\n",
       "      <td>3</td>\n",
       "      <td>4</td>\n",
       "      <td>1</td>\n",
       "      <td>1</td>\n",
       "      <td>Futrelle, Mrs. Jacques Heath (Lily May Peel)</td>\n",
       "      <td>female</td>\n",
       "      <td>35.0</td>\n",
       "      <td>1</td>\n",
       "      <td>0</td>\n",
       "      <td>113803</td>\n",
       "      <td>53.1000</td>\n",
       "      <td>C123</td>\n",
       "      <td>S</td>\n",
       "    </tr>\n",
       "    <tr>\n",
       "      <th>4</th>\n",
       "      <td>4</td>\n",
       "      <td>5</td>\n",
       "      <td>0</td>\n",
       "      <td>3</td>\n",
       "      <td>Allen, Mr. William Henry</td>\n",
       "      <td>male</td>\n",
       "      <td>35.0</td>\n",
       "      <td>0</td>\n",
       "      <td>0</td>\n",
       "      <td>373450</td>\n",
       "      <td>8.0500</td>\n",
       "      <td>NaN</td>\n",
       "      <td>S</td>\n",
       "    </tr>\n",
       "  </tbody>\n",
       "</table>\n",
       "</div>"
      ],
      "text/plain": [
       "   Unnamed: 0  PassengerId  Survived  Pclass  \\\n",
       "0           0            1         0       3   \n",
       "1           1            2         1       1   \n",
       "2           2            3         1       3   \n",
       "3           3            4         1       1   \n",
       "4           4            5         0       3   \n",
       "\n",
       "                                                Name     Sex   Age  SibSp  \\\n",
       "0                            Braund, Mr. Owen Harris    male  22.0      1   \n",
       "1  Cumings, Mrs. John Bradley (Florence Briggs Th...  female  38.0      1   \n",
       "2                             Heikkinen, Miss. Laina  female  26.0      0   \n",
       "3       Futrelle, Mrs. Jacques Heath (Lily May Peel)  female  35.0      1   \n",
       "4                           Allen, Mr. William Henry    male  35.0      0   \n",
       "\n",
       "   Parch            Ticket     Fare Cabin Embarked  \n",
       "0      0         A/5 21171   7.2500   NaN        S  \n",
       "1      0          PC 17599  71.2833   C85        C  \n",
       "2      0  STON/O2. 3101282   7.9250   NaN        S  \n",
       "3      0            113803  53.1000  C123        S  \n",
       "4      0            373450   8.0500   NaN        S  "
      ]
     },
     "execution_count": 10,
     "metadata": {},
     "output_type": "execute_result"
    }
   ],
   "source": [
    "train.head()"
   ]
  },
  {
   "cell_type": "code",
   "execution_count": 11,
   "id": "b0e2ed52-9b70-4f8d-8134-fc41b525673e",
   "metadata": {
    "colab": {
     "base_uri": "https://localhost:8080/",
     "height": 206
    },
    "executionInfo": {
     "elapsed": 337,
     "status": "ok",
     "timestamp": 1643122806506,
     "user": {
      "displayName": "Chewon Song",
      "photoUrl": "https://lh3.googleusercontent.com/a-/AOh14GjccNGTvtPPNXThgTemyZg69qQzk5q2QwkQcSGD=s64",
      "userId": "14107688349549415592"
     },
     "user_tz": -540
    },
    "id": "b0e2ed52-9b70-4f8d-8134-fc41b525673e",
    "outputId": "2a5202e3-7a28-4d84-a8c9-d2788ec80f92"
   },
   "outputs": [
    {
     "data": {
      "text/html": [
       "<div>\n",
       "<style scoped>\n",
       "    .dataframe tbody tr th:only-of-type {\n",
       "        vertical-align: middle;\n",
       "    }\n",
       "\n",
       "    .dataframe tbody tr th {\n",
       "        vertical-align: top;\n",
       "    }\n",
       "\n",
       "    .dataframe thead th {\n",
       "        text-align: right;\n",
       "    }\n",
       "</style>\n",
       "<table border=\"1\" class=\"dataframe\">\n",
       "  <thead>\n",
       "    <tr style=\"text-align: right;\">\n",
       "      <th></th>\n",
       "      <th>Unnamed: 0</th>\n",
       "      <th>PassengerId</th>\n",
       "      <th>Pclass</th>\n",
       "      <th>Name</th>\n",
       "      <th>Sex</th>\n",
       "      <th>Age</th>\n",
       "      <th>SibSp</th>\n",
       "      <th>Parch</th>\n",
       "      <th>Ticket</th>\n",
       "      <th>Fare</th>\n",
       "      <th>Cabin</th>\n",
       "      <th>Embarked</th>\n",
       "    </tr>\n",
       "  </thead>\n",
       "  <tbody>\n",
       "    <tr>\n",
       "      <th>0</th>\n",
       "      <td>0</td>\n",
       "      <td>892</td>\n",
       "      <td>3</td>\n",
       "      <td>Kelly, Mr. James</td>\n",
       "      <td>male</td>\n",
       "      <td>34.5</td>\n",
       "      <td>0</td>\n",
       "      <td>0</td>\n",
       "      <td>330911</td>\n",
       "      <td>7.8292</td>\n",
       "      <td>NaN</td>\n",
       "      <td>Q</td>\n",
       "    </tr>\n",
       "    <tr>\n",
       "      <th>1</th>\n",
       "      <td>1</td>\n",
       "      <td>893</td>\n",
       "      <td>3</td>\n",
       "      <td>Wilkes, Mrs. James (Ellen Needs)</td>\n",
       "      <td>female</td>\n",
       "      <td>47.0</td>\n",
       "      <td>1</td>\n",
       "      <td>0</td>\n",
       "      <td>363272</td>\n",
       "      <td>7.0000</td>\n",
       "      <td>NaN</td>\n",
       "      <td>S</td>\n",
       "    </tr>\n",
       "    <tr>\n",
       "      <th>2</th>\n",
       "      <td>2</td>\n",
       "      <td>894</td>\n",
       "      <td>2</td>\n",
       "      <td>Myles, Mr. Thomas Francis</td>\n",
       "      <td>male</td>\n",
       "      <td>62.0</td>\n",
       "      <td>0</td>\n",
       "      <td>0</td>\n",
       "      <td>240276</td>\n",
       "      <td>9.6875</td>\n",
       "      <td>NaN</td>\n",
       "      <td>Q</td>\n",
       "    </tr>\n",
       "    <tr>\n",
       "      <th>3</th>\n",
       "      <td>3</td>\n",
       "      <td>895</td>\n",
       "      <td>3</td>\n",
       "      <td>Wirz, Mr. Albert</td>\n",
       "      <td>male</td>\n",
       "      <td>27.0</td>\n",
       "      <td>0</td>\n",
       "      <td>0</td>\n",
       "      <td>315154</td>\n",
       "      <td>8.6625</td>\n",
       "      <td>NaN</td>\n",
       "      <td>S</td>\n",
       "    </tr>\n",
       "    <tr>\n",
       "      <th>4</th>\n",
       "      <td>4</td>\n",
       "      <td>896</td>\n",
       "      <td>3</td>\n",
       "      <td>Hirvonen, Mrs. Alexander (Helga E Lindqvist)</td>\n",
       "      <td>female</td>\n",
       "      <td>22.0</td>\n",
       "      <td>1</td>\n",
       "      <td>1</td>\n",
       "      <td>3101298</td>\n",
       "      <td>12.2875</td>\n",
       "      <td>NaN</td>\n",
       "      <td>S</td>\n",
       "    </tr>\n",
       "  </tbody>\n",
       "</table>\n",
       "</div>"
      ],
      "text/plain": [
       "   Unnamed: 0  PassengerId  Pclass  \\\n",
       "0           0          892       3   \n",
       "1           1          893       3   \n",
       "2           2          894       2   \n",
       "3           3          895       3   \n",
       "4           4          896       3   \n",
       "\n",
       "                                           Name     Sex   Age  SibSp  Parch  \\\n",
       "0                              Kelly, Mr. James    male  34.5      0      0   \n",
       "1              Wilkes, Mrs. James (Ellen Needs)  female  47.0      1      0   \n",
       "2                     Myles, Mr. Thomas Francis    male  62.0      0      0   \n",
       "3                              Wirz, Mr. Albert    male  27.0      0      0   \n",
       "4  Hirvonen, Mrs. Alexander (Helga E Lindqvist)  female  22.0      1      1   \n",
       "\n",
       "    Ticket     Fare Cabin Embarked  \n",
       "0   330911   7.8292   NaN        Q  \n",
       "1   363272   7.0000   NaN        S  \n",
       "2   240276   9.6875   NaN        Q  \n",
       "3   315154   8.6625   NaN        S  \n",
       "4  3101298  12.2875   NaN        S  "
      ]
     },
     "execution_count": 11,
     "metadata": {},
     "output_type": "execute_result"
    }
   ],
   "source": [
    "test.head()"
   ]
  },
  {
   "cell_type": "code",
   "execution_count": 12,
   "id": "5d31a9b0-155e-47d8-981b-468b5494f703",
   "metadata": {
    "colab": {
     "base_uri": "https://localhost:8080/",
     "height": 206
    },
    "executionInfo": {
     "elapsed": 275,
     "status": "ok",
     "timestamp": 1643122865458,
     "user": {
      "displayName": "Chewon Song",
      "photoUrl": "https://lh3.googleusercontent.com/a-/AOh14GjccNGTvtPPNXThgTemyZg69qQzk5q2QwkQcSGD=s64",
      "userId": "14107688349549415592"
     },
     "user_tz": -540
    },
    "id": "5d31a9b0-155e-47d8-981b-468b5494f703",
    "outputId": "a32ac7e5-fb0a-426a-de78-37dc4195dc69"
   },
   "outputs": [
    {
     "data": {
      "text/html": [
       "<div>\n",
       "<style scoped>\n",
       "    .dataframe tbody tr th:only-of-type {\n",
       "        vertical-align: middle;\n",
       "    }\n",
       "\n",
       "    .dataframe tbody tr th {\n",
       "        vertical-align: top;\n",
       "    }\n",
       "\n",
       "    .dataframe thead th {\n",
       "        text-align: right;\n",
       "    }\n",
       "</style>\n",
       "<table border=\"1\" class=\"dataframe\">\n",
       "  <thead>\n",
       "    <tr style=\"text-align: right;\">\n",
       "      <th></th>\n",
       "      <th>PassengerId</th>\n",
       "      <th>Survived</th>\n",
       "    </tr>\n",
       "  </thead>\n",
       "  <tbody>\n",
       "    <tr>\n",
       "      <th>0</th>\n",
       "      <td>892</td>\n",
       "      <td>0</td>\n",
       "    </tr>\n",
       "    <tr>\n",
       "      <th>1</th>\n",
       "      <td>893</td>\n",
       "      <td>0</td>\n",
       "    </tr>\n",
       "    <tr>\n",
       "      <th>2</th>\n",
       "      <td>894</td>\n",
       "      <td>0</td>\n",
       "    </tr>\n",
       "    <tr>\n",
       "      <th>3</th>\n",
       "      <td>895</td>\n",
       "      <td>0</td>\n",
       "    </tr>\n",
       "    <tr>\n",
       "      <th>4</th>\n",
       "      <td>896</td>\n",
       "      <td>0</td>\n",
       "    </tr>\n",
       "  </tbody>\n",
       "</table>\n",
       "</div>"
      ],
      "text/plain": [
       "   PassengerId  Survived\n",
       "0          892         0\n",
       "1          893         0\n",
       "2          894         0\n",
       "3          895         0\n",
       "4          896         0"
      ]
     },
     "execution_count": 12,
     "metadata": {},
     "output_type": "execute_result"
    }
   ],
   "source": [
    "submission.head()"
   ]
  },
  {
   "cell_type": "markdown",
   "id": "e95bbd81-30ae-44ee-8841-f546a340fbb5",
   "metadata": {
    "id": "e95bbd81-30ae-44ee-8841-f546a340fbb5"
   },
   "source": [
    "# 간단한 전처리"
   ]
  },
  {
   "cell_type": "markdown",
   "id": "88f81d68-c4a4-462f-9df6-7cc7250f8f3b",
   "metadata": {
    "id": "88f81d68-c4a4-462f-9df6-7cc7250f8f3b",
    "tags": []
   },
   "source": [
    "## 결측치 Drop  \n",
    "결측치가 있는 column은 drop하도록 하겠습니다. 성능을 높이기 위해 drop하지 않고 다른 방법을 사용할 수 있습니다.  \n",
    "ex) Embarked는 두명만 결측치인데 해당 값을 채워주는 방식"
   ]
  },
  {
   "cell_type": "code",
   "execution_count": 73,
   "id": "78025b24-49a7-4c63-b9f9-eadce5e5f759",
   "metadata": {
    "colab": {
     "base_uri": "https://localhost:8080/"
    },
    "executionInfo": {
     "elapsed": 299,
     "status": "ok",
     "timestamp": 1643122870143,
     "user": {
      "displayName": "Chewon Song",
      "photoUrl": "https://lh3.googleusercontent.com/a-/AOh14GjccNGTvtPPNXThgTemyZg69qQzk5q2QwkQcSGD=s64",
      "userId": "14107688349549415592"
     },
     "user_tz": -540
    },
    "id": "78025b24-49a7-4c63-b9f9-eadce5e5f759",
    "outputId": "cc82c907-d3a3-4af3-8291-ca83788ce108"
   },
   "outputs": [
    {
     "data": {
      "text/plain": [
       "Unnamed: 0       0\n",
       "PassengerId      0\n",
       "Survived         0\n",
       "Pclass           0\n",
       "Name             0\n",
       "Sex              0\n",
       "Age            177\n",
       "SibSp            0\n",
       "Parch            0\n",
       "Ticket           0\n",
       "Fare             0\n",
       "Cabin          687\n",
       "Embarked         0\n",
       "dtype: int64"
      ]
     },
     "execution_count": 73,
     "metadata": {},
     "output_type": "execute_result"
    }
   ],
   "source": [
    "#결측치의 수\n",
    "train.isnull().sum()\n"
   ]
  },
  {
   "cell_type": "code",
   "execution_count": 105,
   "id": "14ec957b-33f1-48f3-8771-b222a3da0104",
   "metadata": {
    "executionInfo": {
     "elapsed": 338,
     "status": "ok",
     "timestamp": 1643122874337,
     "user": {
      "displayName": "Chewon Song",
      "photoUrl": "https://lh3.googleusercontent.com/a-/AOh14GjccNGTvtPPNXThgTemyZg69qQzk5q2QwkQcSGD=s64",
      "userId": "14107688349549415592"
     },
     "user_tz": -540
    },
    "id": "14ec957b-33f1-48f3-8771-b222a3da0104"
   },
   "outputs": [
    {
     "data": {
      "text/plain": [
       "Unnamed: 0     0\n",
       "PassengerId    0\n",
       "Survived       0\n",
       "Pclass         0\n",
       "Name           0\n",
       "Sex            0\n",
       "Age            0\n",
       "SibSp          0\n",
       "Parch          0\n",
       "Ticket         0\n",
       "Fare           0\n",
       "Embarked       0\n",
       "dtype: int64"
      ]
     },
     "execution_count": 105,
     "metadata": {},
     "output_type": "execute_result"
    }
   ],
   "source": [
    "# train_dropna = train.drop(columns=[\"Age\", \"Cabin\", \"Embarked\"])\n",
    "\n",
    "train[(train['Embarked'] != 'S') &  (train['Embarked'] != 'Q') & (train['Embarked'] != 'C')]\n",
    "for i in list:\n",
    "    train.iloc[i,-1] = 'Missing'\n",
    "drop_train = train.drop(columns = ['Cabin'])\n",
    "\n",
    "preprocessing  = drop_train.fillna(0)\n",
    "preprocessing.isnull().sum()"
   ]
  },
  {
   "cell_type": "markdown",
   "id": "334ef514-9ad5-457a-895b-bd7ae0a4c387",
   "metadata": {
    "id": "334ef514-9ad5-457a-895b-bd7ae0a4c387"
   },
   "source": [
    "## 카테고리 변수  "
   ]
  },
  {
   "cell_type": "code",
   "execution_count": 107,
   "id": "bf862f66-3eb6-4d2d-b694-b21ee436d4ad",
   "metadata": {
    "id": "bf862f66-3eb6-4d2d-b694-b21ee436d4ad",
    "outputId": "4ebb585a-6d19-469e-da34-51a26de8a5b4"
   },
   "outputs": [
    {
     "data": {
      "text/plain": [
       "Unnamed: 0       int64\n",
       "PassengerId      int64\n",
       "Survived         int64\n",
       "Pclass           int64\n",
       "Name            object\n",
       "Sex             object\n",
       "Age            float64\n",
       "SibSp            int64\n",
       "Parch            int64\n",
       "Ticket          object\n",
       "Fare           float64\n",
       "Embarked        object\n",
       "dtype: object"
      ]
     },
     "execution_count": 107,
     "metadata": {},
     "output_type": "execute_result"
    }
   ],
   "source": [
    "# object 변수 찾기\n",
    "# train_dropna.dtypes\n",
    "preprocessing.dtypes"
   ]
  },
  {
   "cell_type": "code",
   "execution_count": 113,
   "id": "81f6ff2f-f7a6-491c-ab08-29324d49d3be",
   "metadata": {
    "id": "81f6ff2f-f7a6-491c-ab08-29324d49d3be",
    "outputId": "0f30070e-91f0-456c-970e-3aec4019e15d"
   },
   "outputs": [
    {
     "data": {
      "text/plain": [
       "Name        891\n",
       "Sex           2\n",
       "Ticket      681\n",
       "Embarked      4\n",
       "dtype: int64"
      ]
     },
     "execution_count": 113,
     "metadata": {},
     "output_type": "execute_result"
    }
   ],
   "source": [
    "# object 변수 안에 몇개의 값이 존재하는 지 -> nunique() 사용\n",
    "# train_dropna[[\"Name\", \"Sex\", \"Ticket\",\"Embarked\"]].nunique()\n",
    "preprocessing[[\"Name\", \"Sex\", \"Ticket\",\"Embarked\"]].nunique()"
   ]
  },
  {
   "cell_type": "code",
   "execution_count": 115,
   "id": "3dac0e60-0ee3-48ae-bf3e-cb1ecae984c6",
   "metadata": {
    "id": "3dac0e60-0ee3-48ae-bf3e-cb1ecae984c6",
    "outputId": "428ef532-a7f7-4f40-9e6a-e6abb0c1f2fd"
   },
   "outputs": [
    {
     "data": {
      "text/html": [
       "<div>\n",
       "<style scoped>\n",
       "    .dataframe tbody tr th:only-of-type {\n",
       "        vertical-align: middle;\n",
       "    }\n",
       "\n",
       "    .dataframe tbody tr th {\n",
       "        vertical-align: top;\n",
       "    }\n",
       "\n",
       "    .dataframe thead th {\n",
       "        text-align: right;\n",
       "    }\n",
       "</style>\n",
       "<table border=\"1\" class=\"dataframe\">\n",
       "  <thead>\n",
       "    <tr style=\"text-align: right;\">\n",
       "      <th></th>\n",
       "      <th>Unnamed: 0</th>\n",
       "      <th>PassengerId</th>\n",
       "      <th>Survived</th>\n",
       "      <th>Pclass</th>\n",
       "      <th>Age</th>\n",
       "      <th>SibSp</th>\n",
       "      <th>Parch</th>\n",
       "      <th>Fare</th>\n",
       "      <th>Sex_female</th>\n",
       "      <th>Sex_male</th>\n",
       "      <th>Embarked_C</th>\n",
       "      <th>Embarked_Missing</th>\n",
       "      <th>Embarked_Q</th>\n",
       "      <th>Embarked_S</th>\n",
       "    </tr>\n",
       "  </thead>\n",
       "  <tbody>\n",
       "    <tr>\n",
       "      <th>0</th>\n",
       "      <td>0</td>\n",
       "      <td>1</td>\n",
       "      <td>0</td>\n",
       "      <td>3</td>\n",
       "      <td>22.0</td>\n",
       "      <td>1</td>\n",
       "      <td>0</td>\n",
       "      <td>7.2500</td>\n",
       "      <td>0</td>\n",
       "      <td>1</td>\n",
       "      <td>0</td>\n",
       "      <td>0</td>\n",
       "      <td>0</td>\n",
       "      <td>1</td>\n",
       "    </tr>\n",
       "    <tr>\n",
       "      <th>1</th>\n",
       "      <td>1</td>\n",
       "      <td>2</td>\n",
       "      <td>1</td>\n",
       "      <td>1</td>\n",
       "      <td>38.0</td>\n",
       "      <td>1</td>\n",
       "      <td>0</td>\n",
       "      <td>71.2833</td>\n",
       "      <td>1</td>\n",
       "      <td>0</td>\n",
       "      <td>1</td>\n",
       "      <td>0</td>\n",
       "      <td>0</td>\n",
       "      <td>0</td>\n",
       "    </tr>\n",
       "    <tr>\n",
       "      <th>2</th>\n",
       "      <td>2</td>\n",
       "      <td>3</td>\n",
       "      <td>1</td>\n",
       "      <td>3</td>\n",
       "      <td>26.0</td>\n",
       "      <td>0</td>\n",
       "      <td>0</td>\n",
       "      <td>7.9250</td>\n",
       "      <td>1</td>\n",
       "      <td>0</td>\n",
       "      <td>0</td>\n",
       "      <td>0</td>\n",
       "      <td>0</td>\n",
       "      <td>1</td>\n",
       "    </tr>\n",
       "    <tr>\n",
       "      <th>3</th>\n",
       "      <td>3</td>\n",
       "      <td>4</td>\n",
       "      <td>1</td>\n",
       "      <td>1</td>\n",
       "      <td>35.0</td>\n",
       "      <td>1</td>\n",
       "      <td>0</td>\n",
       "      <td>53.1000</td>\n",
       "      <td>1</td>\n",
       "      <td>0</td>\n",
       "      <td>0</td>\n",
       "      <td>0</td>\n",
       "      <td>0</td>\n",
       "      <td>1</td>\n",
       "    </tr>\n",
       "    <tr>\n",
       "      <th>4</th>\n",
       "      <td>4</td>\n",
       "      <td>5</td>\n",
       "      <td>0</td>\n",
       "      <td>3</td>\n",
       "      <td>35.0</td>\n",
       "      <td>0</td>\n",
       "      <td>0</td>\n",
       "      <td>8.0500</td>\n",
       "      <td>0</td>\n",
       "      <td>1</td>\n",
       "      <td>0</td>\n",
       "      <td>0</td>\n",
       "      <td>0</td>\n",
       "      <td>1</td>\n",
       "    </tr>\n",
       "  </tbody>\n",
       "</table>\n",
       "</div>"
      ],
      "text/plain": [
       "   Unnamed: 0  PassengerId  Survived  Pclass   Age  SibSp  Parch     Fare  \\\n",
       "0           0            1         0       3  22.0      1      0   7.2500   \n",
       "1           1            2         1       1  38.0      1      0  71.2833   \n",
       "2           2            3         1       3  26.0      0      0   7.9250   \n",
       "3           3            4         1       1  35.0      1      0  53.1000   \n",
       "4           4            5         0       3  35.0      0      0   8.0500   \n",
       "\n",
       "   Sex_female  Sex_male  Embarked_C  Embarked_Missing  Embarked_Q  Embarked_S  \n",
       "0           0         1           0                 0           0           1  \n",
       "1           1         0           1                 0           0           0  \n",
       "2           1         0           0                 0           0           1  \n",
       "3           1         0           0                 0           0           1  \n",
       "4           0         1           0                 0           0           1  "
      ]
     },
     "execution_count": 115,
     "metadata": {},
     "output_type": "execute_result"
    }
   ],
   "source": [
    "# Name과 Ticket은 수가 많기 때문에 drop하고 Sex는 남녀 두개이기 때문에 더미화 진행합니다.\n",
    "# train_object = train_dropna.drop(columns=[\"Name\", \"Ticket\"])\n",
    "# train_object = pd.get_dummies(train_object, columns=[\"Sex\"]) # 더미화 진행 -> pd.get_dummiex()\n",
    "# train_object.head()\n",
    "\n",
    "pre_obj = preprocessing.drop(columns=['Name','Ticket'])\n",
    "pre_obj = pd.get_dummies(pre_obj, columns = ['Sex','Embarked'])\n",
    "pre_obj.head()"
   ]
  },
  {
   "cell_type": "markdown",
   "id": "425fb8bc-36ea-4268-90e9-96d4e5c7211a",
   "metadata": {
    "id": "425fb8bc-36ea-4268-90e9-96d4e5c7211a"
   },
   "source": [
    "# Train Valid Split  \n",
    "전처리가 끝난 Train Set을 검증을 위한 Validation Set으로 나눠줍니다."
   ]
  },
  {
   "cell_type": "code",
   "execution_count": 116,
   "id": "c3503b9f-4fe9-4e99-8ef0-54ce1c6e8d3d",
   "metadata": {
    "id": "c3503b9f-4fe9-4e99-8ef0-54ce1c6e8d3d"
   },
   "outputs": [],
   "source": [
    "# X와 y 설정\n",
    "# target = \"Survived\"\n",
    "# X = train_object.drop(columns=[target])\n",
    "# y = train_object[target]\n",
    "\n",
    "target = 'Survived'\n",
    "X = pre_obj.drop(columns=[target])\n",
    "y = pre_obj[target]"
   ]
  },
  {
   "cell_type": "code",
   "execution_count": 118,
   "id": "cbc00c05-a1af-4451-b224-6c865438c4f6",
   "metadata": {
    "id": "cbc00c05-a1af-4451-b224-6c865438c4f6"
   },
   "outputs": [
    {
     "data": {
      "text/html": [
       "<div>\n",
       "<style scoped>\n",
       "    .dataframe tbody tr th:only-of-type {\n",
       "        vertical-align: middle;\n",
       "    }\n",
       "\n",
       "    .dataframe tbody tr th {\n",
       "        vertical-align: top;\n",
       "    }\n",
       "\n",
       "    .dataframe thead th {\n",
       "        text-align: right;\n",
       "    }\n",
       "</style>\n",
       "<table border=\"1\" class=\"dataframe\">\n",
       "  <thead>\n",
       "    <tr style=\"text-align: right;\">\n",
       "      <th></th>\n",
       "      <th>Unnamed: 0</th>\n",
       "      <th>PassengerId</th>\n",
       "      <th>Pclass</th>\n",
       "      <th>Age</th>\n",
       "      <th>SibSp</th>\n",
       "      <th>Parch</th>\n",
       "      <th>Fare</th>\n",
       "      <th>Sex_female</th>\n",
       "      <th>Sex_male</th>\n",
       "      <th>Embarked_C</th>\n",
       "      <th>Embarked_Missing</th>\n",
       "      <th>Embarked_Q</th>\n",
       "      <th>Embarked_S</th>\n",
       "    </tr>\n",
       "  </thead>\n",
       "  <tbody>\n",
       "    <tr>\n",
       "      <th>436</th>\n",
       "      <td>436</td>\n",
       "      <td>437</td>\n",
       "      <td>3</td>\n",
       "      <td>21.0</td>\n",
       "      <td>2</td>\n",
       "      <td>2</td>\n",
       "      <td>34.3750</td>\n",
       "      <td>1</td>\n",
       "      <td>0</td>\n",
       "      <td>0</td>\n",
       "      <td>0</td>\n",
       "      <td>0</td>\n",
       "      <td>1</td>\n",
       "    </tr>\n",
       "    <tr>\n",
       "      <th>861</th>\n",
       "      <td>861</td>\n",
       "      <td>862</td>\n",
       "      <td>2</td>\n",
       "      <td>21.0</td>\n",
       "      <td>1</td>\n",
       "      <td>0</td>\n",
       "      <td>11.5000</td>\n",
       "      <td>0</td>\n",
       "      <td>1</td>\n",
       "      <td>0</td>\n",
       "      <td>0</td>\n",
       "      <td>0</td>\n",
       "      <td>1</td>\n",
       "    </tr>\n",
       "    <tr>\n",
       "      <th>434</th>\n",
       "      <td>434</td>\n",
       "      <td>435</td>\n",
       "      <td>1</td>\n",
       "      <td>50.0</td>\n",
       "      <td>1</td>\n",
       "      <td>0</td>\n",
       "      <td>55.9000</td>\n",
       "      <td>0</td>\n",
       "      <td>1</td>\n",
       "      <td>0</td>\n",
       "      <td>0</td>\n",
       "      <td>0</td>\n",
       "      <td>1</td>\n",
       "    </tr>\n",
       "    <tr>\n",
       "      <th>692</th>\n",
       "      <td>692</td>\n",
       "      <td>693</td>\n",
       "      <td>3</td>\n",
       "      <td>0.0</td>\n",
       "      <td>0</td>\n",
       "      <td>0</td>\n",
       "      <td>56.4958</td>\n",
       "      <td>0</td>\n",
       "      <td>1</td>\n",
       "      <td>0</td>\n",
       "      <td>0</td>\n",
       "      <td>0</td>\n",
       "      <td>1</td>\n",
       "    </tr>\n",
       "    <tr>\n",
       "      <th>59</th>\n",
       "      <td>59</td>\n",
       "      <td>60</td>\n",
       "      <td>3</td>\n",
       "      <td>11.0</td>\n",
       "      <td>5</td>\n",
       "      <td>2</td>\n",
       "      <td>46.9000</td>\n",
       "      <td>0</td>\n",
       "      <td>1</td>\n",
       "      <td>0</td>\n",
       "      <td>0</td>\n",
       "      <td>0</td>\n",
       "      <td>1</td>\n",
       "    </tr>\n",
       "    <tr>\n",
       "      <th>...</th>\n",
       "      <td>...</td>\n",
       "      <td>...</td>\n",
       "      <td>...</td>\n",
       "      <td>...</td>\n",
       "      <td>...</td>\n",
       "      <td>...</td>\n",
       "      <td>...</td>\n",
       "      <td>...</td>\n",
       "      <td>...</td>\n",
       "      <td>...</td>\n",
       "      <td>...</td>\n",
       "      <td>...</td>\n",
       "      <td>...</td>\n",
       "    </tr>\n",
       "    <tr>\n",
       "      <th>767</th>\n",
       "      <td>767</td>\n",
       "      <td>768</td>\n",
       "      <td>3</td>\n",
       "      <td>30.5</td>\n",
       "      <td>0</td>\n",
       "      <td>0</td>\n",
       "      <td>7.7500</td>\n",
       "      <td>1</td>\n",
       "      <td>0</td>\n",
       "      <td>0</td>\n",
       "      <td>0</td>\n",
       "      <td>1</td>\n",
       "      <td>0</td>\n",
       "    </tr>\n",
       "    <tr>\n",
       "      <th>126</th>\n",
       "      <td>126</td>\n",
       "      <td>127</td>\n",
       "      <td>3</td>\n",
       "      <td>0.0</td>\n",
       "      <td>0</td>\n",
       "      <td>0</td>\n",
       "      <td>7.7500</td>\n",
       "      <td>0</td>\n",
       "      <td>1</td>\n",
       "      <td>0</td>\n",
       "      <td>0</td>\n",
       "      <td>1</td>\n",
       "      <td>0</td>\n",
       "    </tr>\n",
       "    <tr>\n",
       "      <th>622</th>\n",
       "      <td>622</td>\n",
       "      <td>623</td>\n",
       "      <td>3</td>\n",
       "      <td>20.0</td>\n",
       "      <td>1</td>\n",
       "      <td>1</td>\n",
       "      <td>15.7417</td>\n",
       "      <td>0</td>\n",
       "      <td>1</td>\n",
       "      <td>1</td>\n",
       "      <td>0</td>\n",
       "      <td>0</td>\n",
       "      <td>0</td>\n",
       "    </tr>\n",
       "    <tr>\n",
       "      <th>843</th>\n",
       "      <td>843</td>\n",
       "      <td>844</td>\n",
       "      <td>3</td>\n",
       "      <td>34.5</td>\n",
       "      <td>0</td>\n",
       "      <td>0</td>\n",
       "      <td>6.4375</td>\n",
       "      <td>0</td>\n",
       "      <td>1</td>\n",
       "      <td>1</td>\n",
       "      <td>0</td>\n",
       "      <td>0</td>\n",
       "      <td>0</td>\n",
       "    </tr>\n",
       "    <tr>\n",
       "      <th>716</th>\n",
       "      <td>716</td>\n",
       "      <td>717</td>\n",
       "      <td>1</td>\n",
       "      <td>38.0</td>\n",
       "      <td>0</td>\n",
       "      <td>0</td>\n",
       "      <td>227.5250</td>\n",
       "      <td>1</td>\n",
       "      <td>0</td>\n",
       "      <td>1</td>\n",
       "      <td>0</td>\n",
       "      <td>0</td>\n",
       "      <td>0</td>\n",
       "    </tr>\n",
       "  </tbody>\n",
       "</table>\n",
       "<p>712 rows × 13 columns</p>\n",
       "</div>"
      ],
      "text/plain": [
       "     Unnamed: 0  PassengerId  Pclass   Age  SibSp  Parch      Fare  \\\n",
       "436         436          437       3  21.0      2      2   34.3750   \n",
       "861         861          862       2  21.0      1      0   11.5000   \n",
       "434         434          435       1  50.0      1      0   55.9000   \n",
       "692         692          693       3   0.0      0      0   56.4958   \n",
       "59           59           60       3  11.0      5      2   46.9000   \n",
       "..          ...          ...     ...   ...    ...    ...       ...   \n",
       "767         767          768       3  30.5      0      0    7.7500   \n",
       "126         126          127       3   0.0      0      0    7.7500   \n",
       "622         622          623       3  20.0      1      1   15.7417   \n",
       "843         843          844       3  34.5      0      0    6.4375   \n",
       "716         716          717       1  38.0      0      0  227.5250   \n",
       "\n",
       "     Sex_female  Sex_male  Embarked_C  Embarked_Missing  Embarked_Q  \\\n",
       "436           1         0           0                 0           0   \n",
       "861           0         1           0                 0           0   \n",
       "434           0         1           0                 0           0   \n",
       "692           0         1           0                 0           0   \n",
       "59            0         1           0                 0           0   \n",
       "..          ...       ...         ...               ...         ...   \n",
       "767           1         0           0                 0           1   \n",
       "126           0         1           0                 0           1   \n",
       "622           0         1           1                 0           0   \n",
       "843           0         1           1                 0           0   \n",
       "716           1         0           1                 0           0   \n",
       "\n",
       "     Embarked_S  \n",
       "436           1  \n",
       "861           1  \n",
       "434           1  \n",
       "692           1  \n",
       "59            1  \n",
       "..          ...  \n",
       "767           0  \n",
       "126           0  \n",
       "622           0  \n",
       "843           0  \n",
       "716           0  \n",
       "\n",
       "[712 rows x 13 columns]"
      ]
     },
     "execution_count": 118,
     "metadata": {},
     "output_type": "execute_result"
    }
   ],
   "source": [
    "# Train Test Split\n",
    "from sklearn.model_selection import train_test_split\n",
    "\n",
    "# TODO 1)\n",
    "# X와 y를 train valid로 split 하세요\n",
    "# test size는 0.2, random state는 616, stratify는 y로 설정하세요\n",
    "\n",
    "# X_train, X_valid, y_train, y_valid = train_test_split(X,y, test_size = 0.2, random_state =616, stratify = y)\n",
    "# X_train\n",
    "\n",
    "X_train, X_valid, y_train, y_valid  = train_test_split(X,y, test_size=0.2, random_state = 616, stratify =y)\n",
    "X_train"
   ]
  },
  {
   "cell_type": "code",
   "execution_count": 121,
   "id": "93f6d0e7-6d2c-44ae-829c-47f087ec094c",
   "metadata": {
    "id": "93f6d0e7-6d2c-44ae-829c-47f087ec094c",
    "outputId": "4f4c8ef4-6d0f-4b32-a495-5ac9cdc0ab58"
   },
   "outputs": [
    {
     "name": "stdout",
     "output_type": "stream",
     "text": [
      "X_train shape : (712, 13), X_valid shape : (179, 13)\n"
     ]
    }
   ],
   "source": [
    "print(f\"X_train shape : {X_train.shape}, X_valid shape : {X_valid.shape}\")"
   ]
  },
  {
   "cell_type": "code",
   "execution_count": 122,
   "id": "2f681482-2088-447f-a1e3-68592a0e467a",
   "metadata": {
    "id": "2f681482-2088-447f-a1e3-68592a0e467a",
    "outputId": "ade48693-ea5b-4a46-f0fe-ec818195bf1e"
   },
   "outputs": [
    {
     "name": "stdout",
     "output_type": "stream",
     "text": [
      "0    0.616573\n",
      "1    0.383427\n",
      "Name: Survived, dtype: float64\n",
      "0    0.614525\n",
      "1    0.385475\n",
      "Name: Survived, dtype: float64\n"
     ]
    }
   ],
   "source": [
    "# train과 valid의 y값 비율이 같아야 함\n",
    "\n",
    "print(y_train.value_counts(normalize=True))\n",
    "print(y_valid.value_counts(normalize=True))"
   ]
  },
  {
   "cell_type": "markdown",
   "id": "83349681-eae6-4703-9933-70876238d526",
   "metadata": {
    "id": "83349681-eae6-4703-9933-70876238d526"
   },
   "source": [
    "# 모델 학습  \n",
    "기본 Decision Tree를 사용하여 생존 여부를 예측하고 Grid Search를 사용하였을 때와 Validation Set에서의 성능을 비교합니다."
   ]
  },
  {
   "cell_type": "markdown",
   "id": "aaa40c36-176e-49f9-8b07-4f8a319b7126",
   "metadata": {
    "id": "aaa40c36-176e-49f9-8b07-4f8a319b7126"
   },
   "source": [
    "## 기본 DT"
   ]
  },
  {
   "cell_type": "code",
   "execution_count": 123,
   "id": "25a6fd08-bdcb-4265-8a7a-4f5a9edab6a6",
   "metadata": {
    "id": "25a6fd08-bdcb-4265-8a7a-4f5a9edab6a6"
   },
   "outputs": [],
   "source": [
    "# 기본 Decision Tree 예측\n",
    "from sklearn.tree import DecisionTreeClassifier\n",
    "\n",
    "# 모델 선언\n",
    "dt = DecisionTreeClassifier() \n",
    "\n",
    "# 모델 학습\n",
    "# TODO 2) 모델을 train 데이터에 맞춰 학습(fit)시키세요\n",
    "dt.fit(X_train, y_train)\n",
    "\n",
    "# Validation Set에 예측\n",
    "# TODO 3) 학습한 모델로 valid 값을 예측하세요\n",
    "pred_valid = dt.predict(X_valid)"
   ]
  },
  {
   "cell_type": "code",
   "execution_count": 124,
   "id": "90505ec2-13f0-4943-a6d3-f351a54ae1f5",
   "metadata": {
    "id": "90505ec2-13f0-4943-a6d3-f351a54ae1f5",
    "outputId": "bd2c8020-ab98-4bb5-e4d2-346e9d367b65"
   },
   "outputs": [
    {
     "name": "stdout",
     "output_type": "stream",
     "text": [
      "[[77 33]\n",
      " [21 48]]\n",
      "Accuracy: 0.70\n",
      "F1_Score: 0.64\n"
     ]
    }
   ],
   "source": [
    "# 모델 예측 성능을 검증하기 위해 confusion matrix와 Accuracy, f1 score를 확인합니다.\n",
    "\n",
    "from sklearn.metrics import accuracy_score, f1_score, roc_auc_score, confusion_matrix, classification_report\n",
    "\n",
    "# confusion matrix\n",
    "matrix = confusion_matrix(y_valid, pred_valid)\n",
    "print(matrix)\n",
    "\n",
    "# Accuracy\n",
    "acc = accuracy_score(y_valid, pred_valid)\n",
    "print('Accuracy: {:.2f}'.format(acc))\n",
    "\n",
    "# f1 score\n",
    "f1 = f1_score(y_valid, pred_valid)\n",
    "print('F1_Score: {:.2f}'.format(f1))"
   ]
  },
  {
   "cell_type": "markdown",
   "id": "1267336c-cf28-40cd-b1bf-a42398839ad2",
   "metadata": {
    "id": "1267336c-cf28-40cd-b1bf-a42398839ad2"
   },
   "source": [
    "## Grid Search"
   ]
  },
  {
   "cell_type": "code",
   "execution_count": 126,
   "id": "d47edb44-e3b8-4cc9-ad52-27fb17bbf5ee",
   "metadata": {
    "id": "d47edb44-e3b8-4cc9-ad52-27fb17bbf5ee"
   },
   "outputs": [],
   "source": [
    "from sklearn.model_selection import GridSearchCV\n",
    "grid_dt = DecisionTreeClassifier()\n",
    "\n",
    "# TODO 4)\n",
    "# 테스트 하고 싶은 parameter 값들을 parameter 별로 sequence 구조의 데이터(list, numpy array, etc...)에 넣어줍니다.\n",
    "# 이 때 변수 이름은 꼭 모델 parameter 이름과 동일할 필요는 없습니다.\n",
    "\n",
    "# criterion = list(train_dropna.columns)[1:-1]\n",
    "max_depth = [3,4,5,6]\n",
    "max_leaf = [16,20,24,28]\n",
    "#위의 세 parameter를 하나로 묶기 위해서 다음과 같은 Dictionary 형태로 만들어줍니다.\n",
    "#여기서 key 값은 str 형태로, 정확하게 모델 parameter 이름과 동일해야 합니다.\n",
    "\n",
    "parameter_grid = {'max_depth': max_depth,\n",
    "                  'max_leaf_nodes': max_leaf}\n",
    "\n"
   ]
  },
  {
   "cell_type": "code",
   "execution_count": 127,
   "id": "af4bb1a3-6a1c-4295-87dc-857a11696afe",
   "metadata": {
    "id": "af4bb1a3-6a1c-4295-87dc-857a11696afe"
   },
   "outputs": [
    {
     "data": {
      "text/plain": [
       "GridSearchCV(estimator=DecisionTreeClassifier(),\n",
       "             param_grid={'max_depth': [3, 4, 5, 6],\n",
       "                         'max_leaf_nodes': [16, 20, 24, 28]},\n",
       "             scoring='f1')"
      ]
     },
     "execution_count": 127,
     "metadata": {},
     "output_type": "execute_result"
    }
   ],
   "source": [
    "gs = GridSearchCV(estimator= grid_dt, param_grid= parameter_grid, scoring = 'f1') \n",
    "gs.fit(X_train, y_train) "
   ]
  },
  {
   "cell_type": "code",
   "execution_count": 128,
   "id": "2a4875c1-55a2-44b9-b77e-752fcaebd146",
   "metadata": {
    "id": "2a4875c1-55a2-44b9-b77e-752fcaebd146"
   },
   "outputs": [
    {
     "name": "stdout",
     "output_type": "stream",
     "text": [
      "GridSearch 최적 parameter: {'max_depth': 3, 'max_leaf_nodes': 16}\n",
      "GridSearch 최고 Validation Score: 0.701\n"
     ]
    }
   ],
   "source": [
    "print('GridSearch 최적 parameter: {}'.format(gs.best_params_),\n",
    "      'GridSearch 최고 Validation Score: {:.3f}'.format(gs.best_score_), sep = '\\n')"
   ]
  },
  {
   "cell_type": "code",
   "execution_count": 129,
   "id": "3bdffc24-dd75-4f3e-9737-750fded3d3e8",
   "metadata": {
    "id": "3bdffc24-dd75-4f3e-9737-750fded3d3e8"
   },
   "outputs": [],
   "source": [
    "# Grid Search로 찾은 최적의 파라미터 값으로 모델 생성\n",
    "# TODO 5)\n",
    "dt_grid = DecisionTreeClassifier(max_depth= 3, max_leaf_nodes= 16) \n",
    "\n",
    "dt_grid.fit(X_train, y_train) \n",
    "pred_valid_grid = dt_grid.predict(X_valid)"
   ]
  },
  {
   "cell_type": "code",
   "execution_count": 131,
   "id": "19e3a16b-0d68-438e-a0ad-4106128ccf80",
   "metadata": {
    "id": "19e3a16b-0d68-438e-a0ad-4106128ccf80",
    "outputId": "2b406fae-26ce-49c4-ac17-6ec239dad517"
   },
   "outputs": [
    {
     "name": "stdout",
     "output_type": "stream",
     "text": [
      "[[101   9]\n",
      " [ 19  50]]\n",
      "Accuracy: 0.84\n",
      "F1_Score: 0.78\n"
     ]
    }
   ],
   "source": [
    "# 모델 예측 성능을 검증하기 위해 confusion matrix와 Accuracy, f1 score를 확인합니다.\n",
    "\n",
    "from sklearn.metrics import accuracy_score, f1_score, roc_auc_score, confusion_matrix, classification_report\n",
    "\n",
    "# confusion matrix\n",
    "matrix = confusion_matrix(y_valid, pred_valid_grid)\n",
    "print(matrix)\n",
    "\n",
    "# Accuracy\n",
    "acc = accuracy_score(y_valid, pred_valid_grid)\n",
    "print('Accuracy: {:.2f}'.format(acc))\n",
    "\n",
    "# f1 score\n",
    "f1 = f1_score(y_valid, pred_valid_grid)\n",
    "print('F1_Score: {:.2f}'.format(f1))"
   ]
  },
  {
   "cell_type": "markdown",
   "id": "5f19d712-d26a-43e7-9106-39500e245bfd",
   "metadata": {
    "id": "5f19d712-d26a-43e7-9106-39500e245bfd"
   },
   "source": [
    "# Test Data 예측"
   ]
  },
  {
   "cell_type": "markdown",
   "id": "cecfe454-aaa0-40cc-a692-971d13b925f6",
   "metadata": {
    "id": "cecfe454-aaa0-40cc-a692-971d13b925f6"
   },
   "source": [
    "## 전처리  \n",
    "예측을 진행하기에 앞서 train에서 진행한 전처리 과정을 동일하게 적용해야 합니다.  \n",
    "전처리 방법이 달라질 경우 결과도 다르게 나옵니다!  \n",
    "(전처리 과정을 pipeline으로 만들어서 진행하기도 함 --> \"전처리 pipeline\" 검색)"
   ]
  },
  {
   "cell_type": "markdown",
   "id": "fd97a8c0-0ab0-4217-a87f-95abaa1b5f0b",
   "metadata": {
    "id": "fd97a8c0-0ab0-4217-a87f-95abaa1b5f0b",
    "tags": []
   },
   "source": [
    "### 결측치 Drop  \n",
    "Drop [\"Age\", \"Cabin\", \"Embarked\"] Columns"
   ]
  },
  {
   "cell_type": "code",
   "execution_count": 142,
   "id": "44030e46-5677-4fba-91d5-351813086926",
   "metadata": {
    "id": "44030e46-5677-4fba-91d5-351813086926"
   },
   "outputs": [
    {
     "name": "stderr",
     "output_type": "stream",
     "text": [
      "C:\\Users\\jk121925\\AppData\\Local\\Temp/ipykernel_12852/949387792.py:3: UserWarning: Boolean Series key will be reindexed to match DataFrame index.\n",
      "  test[(train['Embarked'] != 'S') &  (train['Embarked'] != 'Q') & (train['Embarked'] != 'C')]\n"
     ]
    },
    {
     "data": {
      "text/html": [
       "<div>\n",
       "<style scoped>\n",
       "    .dataframe tbody tr th:only-of-type {\n",
       "        vertical-align: middle;\n",
       "    }\n",
       "\n",
       "    .dataframe tbody tr th {\n",
       "        vertical-align: top;\n",
       "    }\n",
       "\n",
       "    .dataframe thead th {\n",
       "        text-align: right;\n",
       "    }\n",
       "</style>\n",
       "<table border=\"1\" class=\"dataframe\">\n",
       "  <thead>\n",
       "    <tr style=\"text-align: right;\">\n",
       "      <th></th>\n",
       "      <th>Unnamed: 0</th>\n",
       "      <th>PassengerId</th>\n",
       "      <th>Pclass</th>\n",
       "      <th>Name</th>\n",
       "      <th>Sex</th>\n",
       "      <th>Age</th>\n",
       "      <th>SibSp</th>\n",
       "      <th>Parch</th>\n",
       "      <th>Ticket</th>\n",
       "      <th>Fare</th>\n",
       "      <th>Cabin</th>\n",
       "      <th>Embarked</th>\n",
       "    </tr>\n",
       "  </thead>\n",
       "  <tbody>\n",
       "    <tr>\n",
       "      <th>0</th>\n",
       "      <td>0</td>\n",
       "      <td>892</td>\n",
       "      <td>3</td>\n",
       "      <td>Kelly, Mr. James</td>\n",
       "      <td>male</td>\n",
       "      <td>34.5</td>\n",
       "      <td>0</td>\n",
       "      <td>0</td>\n",
       "      <td>330911</td>\n",
       "      <td>7.8292</td>\n",
       "      <td>NaN</td>\n",
       "      <td>Q</td>\n",
       "    </tr>\n",
       "    <tr>\n",
       "      <th>1</th>\n",
       "      <td>1</td>\n",
       "      <td>893</td>\n",
       "      <td>3</td>\n",
       "      <td>Wilkes, Mrs. James (Ellen Needs)</td>\n",
       "      <td>female</td>\n",
       "      <td>47.0</td>\n",
       "      <td>1</td>\n",
       "      <td>0</td>\n",
       "      <td>363272</td>\n",
       "      <td>7.0000</td>\n",
       "      <td>NaN</td>\n",
       "      <td>S</td>\n",
       "    </tr>\n",
       "    <tr>\n",
       "      <th>2</th>\n",
       "      <td>2</td>\n",
       "      <td>894</td>\n",
       "      <td>2</td>\n",
       "      <td>Myles, Mr. Thomas Francis</td>\n",
       "      <td>male</td>\n",
       "      <td>62.0</td>\n",
       "      <td>0</td>\n",
       "      <td>0</td>\n",
       "      <td>240276</td>\n",
       "      <td>9.6875</td>\n",
       "      <td>NaN</td>\n",
       "      <td>Q</td>\n",
       "    </tr>\n",
       "    <tr>\n",
       "      <th>3</th>\n",
       "      <td>3</td>\n",
       "      <td>895</td>\n",
       "      <td>3</td>\n",
       "      <td>Wirz, Mr. Albert</td>\n",
       "      <td>male</td>\n",
       "      <td>27.0</td>\n",
       "      <td>0</td>\n",
       "      <td>0</td>\n",
       "      <td>315154</td>\n",
       "      <td>8.6625</td>\n",
       "      <td>NaN</td>\n",
       "      <td>S</td>\n",
       "    </tr>\n",
       "    <tr>\n",
       "      <th>4</th>\n",
       "      <td>4</td>\n",
       "      <td>896</td>\n",
       "      <td>3</td>\n",
       "      <td>Hirvonen, Mrs. Alexander (Helga E Lindqvist)</td>\n",
       "      <td>female</td>\n",
       "      <td>22.0</td>\n",
       "      <td>1</td>\n",
       "      <td>1</td>\n",
       "      <td>3101298</td>\n",
       "      <td>12.2875</td>\n",
       "      <td>NaN</td>\n",
       "      <td>S</td>\n",
       "    </tr>\n",
       "    <tr>\n",
       "      <th>...</th>\n",
       "      <td>...</td>\n",
       "      <td>...</td>\n",
       "      <td>...</td>\n",
       "      <td>...</td>\n",
       "      <td>...</td>\n",
       "      <td>...</td>\n",
       "      <td>...</td>\n",
       "      <td>...</td>\n",
       "      <td>...</td>\n",
       "      <td>...</td>\n",
       "      <td>...</td>\n",
       "      <td>...</td>\n",
       "    </tr>\n",
       "    <tr>\n",
       "      <th>413</th>\n",
       "      <td>413</td>\n",
       "      <td>1305</td>\n",
       "      <td>3</td>\n",
       "      <td>Spector, Mr. Woolf</td>\n",
       "      <td>male</td>\n",
       "      <td>NaN</td>\n",
       "      <td>0</td>\n",
       "      <td>0</td>\n",
       "      <td>A.5. 3236</td>\n",
       "      <td>8.0500</td>\n",
       "      <td>NaN</td>\n",
       "      <td>S</td>\n",
       "    </tr>\n",
       "    <tr>\n",
       "      <th>414</th>\n",
       "      <td>414</td>\n",
       "      <td>1306</td>\n",
       "      <td>1</td>\n",
       "      <td>Oliva y Ocana, Dona. Fermina</td>\n",
       "      <td>female</td>\n",
       "      <td>39.0</td>\n",
       "      <td>0</td>\n",
       "      <td>0</td>\n",
       "      <td>PC 17758</td>\n",
       "      <td>108.9000</td>\n",
       "      <td>C105</td>\n",
       "      <td>C</td>\n",
       "    </tr>\n",
       "    <tr>\n",
       "      <th>415</th>\n",
       "      <td>415</td>\n",
       "      <td>1307</td>\n",
       "      <td>3</td>\n",
       "      <td>Saether, Mr. Simon Sivertsen</td>\n",
       "      <td>male</td>\n",
       "      <td>38.5</td>\n",
       "      <td>0</td>\n",
       "      <td>0</td>\n",
       "      <td>SOTON/O.Q. 3101262</td>\n",
       "      <td>7.2500</td>\n",
       "      <td>NaN</td>\n",
       "      <td>S</td>\n",
       "    </tr>\n",
       "    <tr>\n",
       "      <th>416</th>\n",
       "      <td>416</td>\n",
       "      <td>1308</td>\n",
       "      <td>3</td>\n",
       "      <td>Ware, Mr. Frederick</td>\n",
       "      <td>male</td>\n",
       "      <td>NaN</td>\n",
       "      <td>0</td>\n",
       "      <td>0</td>\n",
       "      <td>359309</td>\n",
       "      <td>8.0500</td>\n",
       "      <td>NaN</td>\n",
       "      <td>S</td>\n",
       "    </tr>\n",
       "    <tr>\n",
       "      <th>417</th>\n",
       "      <td>417</td>\n",
       "      <td>1309</td>\n",
       "      <td>3</td>\n",
       "      <td>Peter, Master. Michael J</td>\n",
       "      <td>male</td>\n",
       "      <td>NaN</td>\n",
       "      <td>1</td>\n",
       "      <td>1</td>\n",
       "      <td>2668</td>\n",
       "      <td>22.3583</td>\n",
       "      <td>NaN</td>\n",
       "      <td>C</td>\n",
       "    </tr>\n",
       "  </tbody>\n",
       "</table>\n",
       "<p>418 rows × 12 columns</p>\n",
       "</div>"
      ],
      "text/plain": [
       "     Unnamed: 0  PassengerId  Pclass  \\\n",
       "0             0          892       3   \n",
       "1             1          893       3   \n",
       "2             2          894       2   \n",
       "3             3          895       3   \n",
       "4             4          896       3   \n",
       "..          ...          ...     ...   \n",
       "413         413         1305       3   \n",
       "414         414         1306       1   \n",
       "415         415         1307       3   \n",
       "416         416         1308       3   \n",
       "417         417         1309       3   \n",
       "\n",
       "                                             Name     Sex   Age  SibSp  Parch  \\\n",
       "0                                Kelly, Mr. James    male  34.5      0      0   \n",
       "1                Wilkes, Mrs. James (Ellen Needs)  female  47.0      1      0   \n",
       "2                       Myles, Mr. Thomas Francis    male  62.0      0      0   \n",
       "3                                Wirz, Mr. Albert    male  27.0      0      0   \n",
       "4    Hirvonen, Mrs. Alexander (Helga E Lindqvist)  female  22.0      1      1   \n",
       "..                                            ...     ...   ...    ...    ...   \n",
       "413                            Spector, Mr. Woolf    male   NaN      0      0   \n",
       "414                  Oliva y Ocana, Dona. Fermina  female  39.0      0      0   \n",
       "415                  Saether, Mr. Simon Sivertsen    male  38.5      0      0   \n",
       "416                           Ware, Mr. Frederick    male   NaN      0      0   \n",
       "417                      Peter, Master. Michael J    male   NaN      1      1   \n",
       "\n",
       "                 Ticket      Fare Cabin Embarked  \n",
       "0                330911    7.8292   NaN        Q  \n",
       "1                363272    7.0000   NaN        S  \n",
       "2                240276    9.6875   NaN        Q  \n",
       "3                315154    8.6625   NaN        S  \n",
       "4               3101298   12.2875   NaN        S  \n",
       "..                  ...       ...   ...      ...  \n",
       "413           A.5. 3236    8.0500   NaN        S  \n",
       "414            PC 17758  108.9000  C105        C  \n",
       "415  SOTON/O.Q. 3101262    7.2500   NaN        S  \n",
       "416              359309    8.0500   NaN        S  \n",
       "417                2668   22.3583   NaN        C  \n",
       "\n",
       "[418 rows x 12 columns]"
      ]
     },
     "execution_count": 142,
     "metadata": {},
     "output_type": "execute_result"
    }
   ],
   "source": [
    "test_dropna = test.drop(columns=[\"Age\", \"Cabin\", \"Embarked\"])\n",
    "\n",
    "test[(train['Embarked'] != 'S') &  (train['Embarked'] != 'Q') & (train['Embarked'] != 'C')]\n",
    "# for i in list:\n",
    "#     test.iloc[i,-1] = 'Missing'\n",
    "drop_test = test.drop(columns = ['Cabin'])\n",
    "\n",
    "test_preprocessing  = drop_test.fillna(0)\n",
    "test_preprocessing.isnull().sum()\n",
    "test"
   ]
  },
  {
   "cell_type": "markdown",
   "id": "d98e5ff2-f266-42bc-8feb-79c456d41f69",
   "metadata": {
    "id": "d98e5ff2-f266-42bc-8feb-79c456d41f69"
   },
   "source": [
    "### 카테고리 변수  "
   ]
  },
  {
   "cell_type": "code",
   "execution_count": 143,
   "id": "741e5f1e-d622-4834-9cc2-aade25ff8a27",
   "metadata": {
    "id": "741e5f1e-d622-4834-9cc2-aade25ff8a27",
    "outputId": "a99ab2f8-950a-49bb-ed0b-2a923170978f"
   },
   "outputs": [
    {
     "data": {
      "text/html": [
       "<div>\n",
       "<style scoped>\n",
       "    .dataframe tbody tr th:only-of-type {\n",
       "        vertical-align: middle;\n",
       "    }\n",
       "\n",
       "    .dataframe tbody tr th {\n",
       "        vertical-align: top;\n",
       "    }\n",
       "\n",
       "    .dataframe thead th {\n",
       "        text-align: right;\n",
       "    }\n",
       "</style>\n",
       "<table border=\"1\" class=\"dataframe\">\n",
       "  <thead>\n",
       "    <tr style=\"text-align: right;\">\n",
       "      <th></th>\n",
       "      <th>Unnamed: 0</th>\n",
       "      <th>PassengerId</th>\n",
       "      <th>Pclass</th>\n",
       "      <th>Age</th>\n",
       "      <th>SibSp</th>\n",
       "      <th>Parch</th>\n",
       "      <th>Fare</th>\n",
       "      <th>Sex_female</th>\n",
       "      <th>Sex_male</th>\n",
       "      <th>Embarked_C</th>\n",
       "      <th>Embarked_Missing</th>\n",
       "      <th>Embarked_Q</th>\n",
       "      <th>Embarked_S</th>\n",
       "    </tr>\n",
       "  </thead>\n",
       "  <tbody>\n",
       "    <tr>\n",
       "      <th>0</th>\n",
       "      <td>0</td>\n",
       "      <td>892</td>\n",
       "      <td>3</td>\n",
       "      <td>34.5</td>\n",
       "      <td>0</td>\n",
       "      <td>0</td>\n",
       "      <td>7.8292</td>\n",
       "      <td>0</td>\n",
       "      <td>1</td>\n",
       "      <td>0</td>\n",
       "      <td>0</td>\n",
       "      <td>1</td>\n",
       "      <td>0</td>\n",
       "    </tr>\n",
       "    <tr>\n",
       "      <th>1</th>\n",
       "      <td>1</td>\n",
       "      <td>893</td>\n",
       "      <td>3</td>\n",
       "      <td>47.0</td>\n",
       "      <td>1</td>\n",
       "      <td>0</td>\n",
       "      <td>7.0000</td>\n",
       "      <td>1</td>\n",
       "      <td>0</td>\n",
       "      <td>0</td>\n",
       "      <td>0</td>\n",
       "      <td>0</td>\n",
       "      <td>1</td>\n",
       "    </tr>\n",
       "    <tr>\n",
       "      <th>2</th>\n",
       "      <td>2</td>\n",
       "      <td>894</td>\n",
       "      <td>2</td>\n",
       "      <td>62.0</td>\n",
       "      <td>0</td>\n",
       "      <td>0</td>\n",
       "      <td>9.6875</td>\n",
       "      <td>0</td>\n",
       "      <td>1</td>\n",
       "      <td>0</td>\n",
       "      <td>0</td>\n",
       "      <td>1</td>\n",
       "      <td>0</td>\n",
       "    </tr>\n",
       "    <tr>\n",
       "      <th>3</th>\n",
       "      <td>3</td>\n",
       "      <td>895</td>\n",
       "      <td>3</td>\n",
       "      <td>27.0</td>\n",
       "      <td>0</td>\n",
       "      <td>0</td>\n",
       "      <td>8.6625</td>\n",
       "      <td>0</td>\n",
       "      <td>1</td>\n",
       "      <td>0</td>\n",
       "      <td>0</td>\n",
       "      <td>0</td>\n",
       "      <td>1</td>\n",
       "    </tr>\n",
       "    <tr>\n",
       "      <th>4</th>\n",
       "      <td>4</td>\n",
       "      <td>896</td>\n",
       "      <td>3</td>\n",
       "      <td>22.0</td>\n",
       "      <td>1</td>\n",
       "      <td>1</td>\n",
       "      <td>12.2875</td>\n",
       "      <td>1</td>\n",
       "      <td>0</td>\n",
       "      <td>0</td>\n",
       "      <td>0</td>\n",
       "      <td>0</td>\n",
       "      <td>1</td>\n",
       "    </tr>\n",
       "  </tbody>\n",
       "</table>\n",
       "</div>"
      ],
      "text/plain": [
       "   Unnamed: 0  PassengerId  Pclass   Age  SibSp  Parch     Fare  Sex_female  \\\n",
       "0           0          892       3  34.5      0      0   7.8292           0   \n",
       "1           1          893       3  47.0      1      0   7.0000           1   \n",
       "2           2          894       2  62.0      0      0   9.6875           0   \n",
       "3           3          895       3  27.0      0      0   8.6625           0   \n",
       "4           4          896       3  22.0      1      1  12.2875           1   \n",
       "\n",
       "   Sex_male  Embarked_C  Embarked_Missing  Embarked_Q  Embarked_S  \n",
       "0         1           0                 0           1           0  \n",
       "1         0           0                 0           0           1  \n",
       "2         1           0                 0           1           0  \n",
       "3         1           0                 0           0           1  \n",
       "4         0           0                 0           0           1  "
      ]
     },
     "execution_count": 143,
     "metadata": {},
     "output_type": "execute_result"
    }
   ],
   "source": [
    "# Name과 Ticket은 수가 많기 때문에 drop하고 Sex는 남녀 두개이기 때문에 더미화 진행합니다.\n",
    "test_object = test_preprocessing.drop(columns=[\"Name\", \"Ticket\"])\n",
    "test_object = pd.get_dummies(test_object, columns=[\"Sex\",'Embarked']) # 더미화 진행 -> pd.get_dummiex()\n",
    "test_object.head()"
   ]
  },
  {
   "cell_type": "markdown",
   "id": "a1a15e12-43a7-489c-b636-173c177f24a0",
   "metadata": {
    "id": "a1a15e12-43a7-489c-b636-173c177f24a0"
   },
   "source": [
    "### 추가 결측치 전처리  \n",
    "Fare 항목의 결측치가 존재하므로 해당 결측치를 처리해줘야함 -> train의 데이터는 Fare 행이 존재하기 때문에 drop 불가 -> 평균값으로 대체"
   ]
  },
  {
   "cell_type": "code",
   "execution_count": 144,
   "id": "2a1af042-9af4-4e01-aa74-5b417f04fa3d",
   "metadata": {
    "id": "2a1af042-9af4-4e01-aa74-5b417f04fa3d",
    "outputId": "e8b12191-6c99-4742-cdbd-bbeb89ab296a"
   },
   "outputs": [
    {
     "data": {
      "text/plain": [
       "Unnamed: 0          0\n",
       "PassengerId         0\n",
       "Pclass              0\n",
       "Age                 0\n",
       "SibSp               0\n",
       "Parch               0\n",
       "Fare                0\n",
       "Sex_female          0\n",
       "Sex_male            0\n",
       "Embarked_C          0\n",
       "Embarked_Missing    0\n",
       "Embarked_Q          0\n",
       "Embarked_S          0\n",
       "dtype: int64"
      ]
     },
     "execution_count": 144,
     "metadata": {},
     "output_type": "execute_result"
    }
   ],
   "source": [
    "test_object.isna().sum()"
   ]
  },
  {
   "cell_type": "code",
   "execution_count": 151,
   "id": "f9238064-3299-42e6-99b6-c927fdd3c282",
   "metadata": {
    "id": "f9238064-3299-42e6-99b6-c927fdd3c282"
   },
   "outputs": [],
   "source": [
    "test_fillna = test_object.fillna(test_object.mean()) # fillna(df.mean())을 사용하여 결측치 채우기"
   ]
  },
  {
   "cell_type": "markdown",
   "id": "002eae57-e34a-49a2-9496-e2f19fcb1ce3",
   "metadata": {
    "id": "002eae57-e34a-49a2-9496-e2f19fcb1ce3"
   },
   "source": [
    "## 예측"
   ]
  },
  {
   "cell_type": "code",
   "execution_count": 152,
   "id": "4fc4c086-3c7e-4d42-b78f-f62a0a668b7a",
   "metadata": {
    "id": "4fc4c086-3c7e-4d42-b78f-f62a0a668b7a"
   },
   "outputs": [],
   "source": [
    "pred = dt_grid.predict(test_fillna)"
   ]
  },
  {
   "cell_type": "code",
   "execution_count": 153,
   "id": "62a1e809-2f41-456c-8457-ecdd2d8136c0",
   "metadata": {
    "id": "62a1e809-2f41-456c-8457-ecdd2d8136c0"
   },
   "outputs": [
    {
     "data": {
      "text/html": [
       "<div>\n",
       "<style scoped>\n",
       "    .dataframe tbody tr th:only-of-type {\n",
       "        vertical-align: middle;\n",
       "    }\n",
       "\n",
       "    .dataframe tbody tr th {\n",
       "        vertical-align: top;\n",
       "    }\n",
       "\n",
       "    .dataframe thead th {\n",
       "        text-align: right;\n",
       "    }\n",
       "</style>\n",
       "<table border=\"1\" class=\"dataframe\">\n",
       "  <thead>\n",
       "    <tr style=\"text-align: right;\">\n",
       "      <th></th>\n",
       "      <th>PassengerId</th>\n",
       "      <th>Survived</th>\n",
       "    </tr>\n",
       "  </thead>\n",
       "  <tbody>\n",
       "    <tr>\n",
       "      <th>0</th>\n",
       "      <td>892</td>\n",
       "      <td>0</td>\n",
       "    </tr>\n",
       "    <tr>\n",
       "      <th>1</th>\n",
       "      <td>893</td>\n",
       "      <td>1</td>\n",
       "    </tr>\n",
       "    <tr>\n",
       "      <th>2</th>\n",
       "      <td>894</td>\n",
       "      <td>0</td>\n",
       "    </tr>\n",
       "    <tr>\n",
       "      <th>3</th>\n",
       "      <td>895</td>\n",
       "      <td>0</td>\n",
       "    </tr>\n",
       "    <tr>\n",
       "      <th>4</th>\n",
       "      <td>896</td>\n",
       "      <td>1</td>\n",
       "    </tr>\n",
       "  </tbody>\n",
       "</table>\n",
       "</div>"
      ],
      "text/plain": [
       "   PassengerId  Survived\n",
       "0          892         0\n",
       "1          893         1\n",
       "2          894         0\n",
       "3          895         0\n",
       "4          896         1"
      ]
     },
     "execution_count": 153,
     "metadata": {},
     "output_type": "execute_result"
    }
   ],
   "source": [
    "submission['Survived'] = pred\n",
    "submission.head()"
   ]
  },
  {
   "cell_type": "code",
   "execution_count": 154,
   "id": "438cec38-3f15-4d0e-b7d4-81122edffd86",
   "metadata": {
    "id": "438cec38-3f15-4d0e-b7d4-81122edffd86"
   },
   "outputs": [],
   "source": [
    "submission.to_csv('dt_submission.csv', index=False)"
   ]
  },
  {
   "cell_type": "markdown",
   "id": "277be385-8dd4-4a39-a758-eb0120cdc4bf",
   "metadata": {
    "id": "277be385-8dd4-4a39-a758-eb0120cdc4bf"
   },
   "source": [
    "본인 깃헙 repository에 과제 코드와 제출한 화면 캡처본을 함께 업로드 해주세요."
   ]
  },
  {
   "cell_type": "code",
   "execution_count": null,
   "id": "afa2fe97-f599-452a-bf03-1346d68e69b0",
   "metadata": {
    "id": "afa2fe97-f599-452a-bf03-1346d68e69b0"
   },
   "outputs": [],
   "source": []
  }
 ],
 "metadata": {
  "colab": {
   "collapsed_sections": [],
   "name": "2022-1_ML과제_타이타닉.ipynb",
   "provenance": []
  },
  "kernelspec": {
   "display_name": "Python 3 (ipykernel)",
   "language": "python",
   "name": "python3"
  },
  "language_info": {
   "codemirror_mode": {
    "name": "ipython",
    "version": 3
   },
   "file_extension": ".py",
   "mimetype": "text/x-python",
   "name": "python",
   "nbconvert_exporter": "python",
   "pygments_lexer": "ipython3",
   "version": "3.9.7"
  },
  "toc-autonumbering": true
 },
 "nbformat": 4,
 "nbformat_minor": 5
}
